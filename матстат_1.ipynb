{
 "cells": [
  {
   "cell_type": "code",
   "execution_count": 2,
   "metadata": {},
   "outputs": [],
   "source": [
    "import numpy as np\n",
    "\n",
    "import pandas as pd\n",
    "\n",
    "import math\n",
    "\n",
    "import matplotlib.pyplot as plt\n",
    "\n",
    "from scipy.stats import gamma"
   ]
  },
  {
   "cell_type": "code",
   "execution_count": 3,
   "metadata": {},
   "outputs": [],
   "source": [
    "# выборка"
   ]
  },
  {
   "cell_type": "code",
   "execution_count": 4,
   "metadata": {},
   "outputs": [],
   "source": [
    "data = [8.432, 6.077, 8.982, 2.897, 5.784, 29.159, 14.564, 9.869, 11.621, 10.405,\n",
    "     11.589, 15, 8.659, 15.142, 5.345, 7.69, 16.504, 8.742, 2.834, 9.846,\n",
    "     13.697, 13.167, 6.846, 6.727, 12.614, 3.655, 19.627, 1.572, 11.4, 8.384,\n",
    "     4.807, 7.897, 13.881, 6.244, 13.188, 12.419, 8.279, 9.37, 7.233, 15.503,\n",
    "     13.47, 8.511, 10.134, 18.831, 9.422, 3.715, 8.63, 6.99, 10.187, 17.491,\n",
    "     8.262, 11.019, 13.02, 7.619, 5.1, 7.757, 7.772, 16.063, 8.736, 12.214,\n",
    "     7.998, 5.651, 5.225, 8.525, 12.935, 9.312, 5.12, 6.146, 19.032, 15.049,\n",
    "     9.643, 8.633, 4.367, 3.91, 5.957, 6.345, 14.577, 9.878, 13.658, 4.104,\n",
    "     5.752, 5.693, 15.207, 6.776, 5.055, 4.96, 35.182, 14.399, 13.383, 14.144,\n",
    "     3.77, 6.394, 11.695, 8.474, 13.196, 7.636, 11.219, 10.463, 6.802, 10.135]"
   ]
  },
  {
   "cell_type": "code",
   "execution_count": 5,
   "metadata": {},
   "outputs": [],
   "source": [
    "# крайние члены вариационного ряда"
   ]
  },
  {
   "cell_type": "code",
   "execution_count": 6,
   "metadata": {},
   "outputs": [
    {
     "name": "stdout",
     "output_type": "stream",
     "text": [
      "1.572 35.182\n"
     ]
    }
   ],
   "source": [
    "min_member = min(data)\n",
    "\n",
    "max_member = max(data)\n",
    "\n",
    "print(min_member, max_member)"
   ]
  },
  {
   "cell_type": "code",
   "execution_count": 7,
   "metadata": {},
   "outputs": [],
   "source": [
    "# размах "
   ]
  },
  {
   "cell_type": "code",
   "execution_count": 8,
   "metadata": {},
   "outputs": [
    {
     "name": "stdout",
     "output_type": "stream",
     "text": [
      "33.61\n"
     ]
    }
   ],
   "source": [
    "selection_range = max_member - min_member\n",
    "print(selection_range)"
   ]
  },
  {
   "cell_type": "code",
   "execution_count": 9,
   "metadata": {},
   "outputs": [],
   "source": [
    "# количество интервалов"
   ]
  },
  {
   "cell_type": "code",
   "execution_count": 10,
   "metadata": {},
   "outputs": [
    {
     "name": "stdout",
     "output_type": "stream",
     "text": [
      "7\n"
     ]
    }
   ],
   "source": [
    "n = math.trunc(1 + 3.32*math.log(len(data), 10))\n",
    "print(n)"
   ]
  },
  {
   "cell_type": "code",
   "execution_count": 11,
   "metadata": {},
   "outputs": [],
   "source": [
    "# длина интервалов"
   ]
  },
  {
   "cell_type": "code",
   "execution_count": 12,
   "metadata": {
    "scrolled": true
   },
   "outputs": [
    {
     "name": "stdout",
     "output_type": "stream",
     "text": [
      "4.801428571428572\n"
     ]
    }
   ],
   "source": [
    "interval_length = selection_range / n\n",
    "print(interval_length)"
   ]
  },
  {
   "cell_type": "code",
   "execution_count": 13,
   "metadata": {},
   "outputs": [],
   "source": [
    "# гистограмма относительных частот"
   ]
  },
  {
   "cell_type": "code",
   "execution_count": 14,
   "metadata": {},
   "outputs": [],
   "source": [
    "hist = np.histogram(data, n)"
   ]
  },
  {
   "cell_type": "code",
   "execution_count": 15,
   "metadata": {},
   "outputs": [
    {
     "name": "stdout",
     "output_type": "stream",
     "text": [
      "3.973    25\n",
      "8.774    40\n",
      "13.576   27\n",
      "18.377    6\n",
      "23.178    0\n",
      "27.980    1\n",
      "32.781    1\n"
     ]
    }
   ],
   "source": [
    "hist_center = [0] * n\n",
    "for i in range (0, n):\n",
    "    hist_center[i] = hist[1][i] + interval_length / 2\n",
    "    print(\"%-7.3f %3d\" % (hist[1][i] + interval_length / 2, hist[0][i]))"
   ]
  },
  {
   "cell_type": "code",
   "execution_count": 16,
   "metadata": {},
   "outputs": [],
   "source": [
    "## относительные частоты"
   ]
  },
  {
   "cell_type": "code",
   "execution_count": 17,
   "metadata": {},
   "outputs": [
    {
     "name": "stdout",
     "output_type": "stream",
     "text": [
      "0.25\n",
      "0.4\n",
      "0.27\n",
      "0.06\n",
      "0.0\n",
      "0.01\n",
      "0.01\n"
     ]
    }
   ],
   "source": [
    "rel_frequency = [0] * n\n",
    "for i in range (0, n):\n",
    "    rel_frequency[i] = hist[0][i] / len(data)\n",
    "    print(rel_frequency[i])"
   ]
  },
  {
   "cell_type": "code",
   "execution_count": 18,
   "metadata": {},
   "outputs": [],
   "source": [
    "## высота столбцов гистограммы"
   ]
  },
  {
   "cell_type": "code",
   "execution_count": 19,
   "metadata": {},
   "outputs": [
    {
     "name": "stdout",
     "output_type": "stream",
     "text": [
      "0.05207\n",
      "0.08331\n",
      "0.05623\n",
      "0.01250\n",
      "0.00000\n",
      "0.00208\n",
      "0.00208\n"
     ]
    }
   ],
   "source": [
    "hist_hight = [0] * n\n",
    "for i in range (0, n): \n",
    "    hist_hight[i] = rel_frequency[i] / interval_length\n",
    "    print(\"%5.5f\" % (hist_hight[i]))"
   ]
  },
  {
   "cell_type": "code",
   "execution_count": 20,
   "metadata": {},
   "outputs": [],
   "source": [
    "## границы интервалов"
   ]
  },
  {
   "cell_type": "code",
   "execution_count": 21,
   "metadata": {},
   "outputs": [
    {
     "name": "stdout",
     "output_type": "stream",
     "text": [
      "1.57200\n",
      "6.37343\n",
      "11.17486\n",
      "15.97629\n",
      "20.77771\n",
      "25.57914\n",
      "30.38057\n"
     ]
    }
   ],
   "source": [
    "borders = [0] * n\n",
    "for i in range (0, n): \n",
    "    borders[i] = hist[1][i]\n",
    "    print(\"%5.5f\" % (borders[i]))"
   ]
  },
  {
   "cell_type": "code",
   "execution_count": 22,
   "metadata": {},
   "outputs": [],
   "source": [
    "## гистограмма"
   ]
  },
  {
   "cell_type": "code",
   "execution_count": 23,
   "metadata": {},
   "outputs": [
    {
     "data": {
      "text/plain": [
       "(1.572, 35.182)"
      ]
     },
     "execution_count": 23,
     "metadata": {},
     "output_type": "execute_result"
    },
    {
     "data": {
      "image/png": "[encoded data removed]",
      "text/plain": [
       "<Figure size 432x288 with 1 Axes>"
      ]
     },
     "metadata": {
      "needs_background": "light"
     },
     "output_type": "display_data"
    }
   ],
   "source": [
    "plt.hist(data, \n",
    "         bins = np.arange(min_member, max_member + 1, interval_length),\n",
    "         density = True, \n",
    "         range = (min_member, max_member), \n",
    "         color = \"#E7FF8F\")\n",
    "plt.plot(hist_center, hist_hight, color = \"black\")\n",
    "plt.ylim(0.00, 0.09)\n",
    "plt.xlim(min_member, max_member)"
   ]
  },
  {
   "cell_type": "code",
   "execution_count": 24,
   "metadata": {},
   "outputs": [],
   "source": [
    "# выборочное среднее и выборочная дисперсия"
   ]
  },
  {
   "cell_type": "code",
   "execution_count": 25,
   "metadata": {},
   "outputs": [
    {
     "name": "stdout",
     "output_type": "stream",
     "text": [
      "9.969940000000001\n"
     ]
    }
   ],
   "source": [
    "sample_mean = np.mean(data)\n",
    "print(sample_mean)"
   ]
  },
  {
   "cell_type": "code",
   "execution_count": 28,
   "metadata": {},
   "outputs": [
    {
     "name": "stdout",
     "output_type": "stream",
     "text": [
      "25.9183433764\n"
     ]
    }
   ],
   "source": [
    "sample_variance_shift = np.var(data) #смещённая дисперсия\n",
    "print(sample_variance_shift)"
   ]
  },
  {
   "cell_type": "code",
   "execution_count": 29,
   "metadata": {},
   "outputs": [
    {
     "name": "stdout",
     "output_type": "stream",
     "text": [
      "26.180144824646455\n"
     ]
    }
   ],
   "source": [
    "sum = 0\n",
    "for i in data:\n",
    "    sum += (i - sample_mean) ** 2\n",
    "sample_variance = sum / (len(data) - 1) #несмещённая дисперсия\n",
    "print(sample_variance)"
   ]
  },
  {
   "cell_type": "code",
   "execution_count": 30,
   "metadata": {},
   "outputs": [],
   "source": [
    "# возможный закон распределения"
   ]
  },
  {
   "cell_type": "code",
   "execution_count": 31,
   "metadata": {},
   "outputs": [],
   "source": [
    "\n",
    "## по виду полученной гистограммы можно предположить,\n",
    "## что распределение эмпирических частот\n",
    "## представляет из себя гамма-распределение\n"
   ]
  },
  {
   "cell_type": "code",
   "execution_count": 32,
   "metadata": {},
   "outputs": [],
   "source": [
    "## математическое ожидание для гамма-распределения: a * b\n",
    "## дисперсия для гамма-распределения: a * b ^ 2\n",
    "## => a * b = sample_mean\n",
    "## => a * b ^ 2 = sample_variance\n",
    "## 1 / b = sample_mean / sample_variance => b = sample_variance / sample_mean\n",
    "## a = sample_mean / b => a = (sample_mean ^ 2) / sample_variance"
   ]
  },
  {
   "cell_type": "code",
   "execution_count": 33,
   "metadata": {},
   "outputs": [
    {
     "name": "stdout",
     "output_type": "stream",
     "text": [
      "a =  3.80     b =  2.63\n"
     ]
    }
   ],
   "source": [
    "a = (sample_mean ** 2) / sample_variance\n",
    "b = sample_variance / sample_mean\n",
    "print (\"a = %5.2f\" % a, \"    b = %5.2f\" % b)"
   ]
  },
  {
   "cell_type": "code",
   "execution_count": 34,
   "metadata": {},
   "outputs": [],
   "source": [
    "# график гамма-распределения с полученными параметрами"
   ]
  },
  {
   "cell_type": "code",
   "execution_count": 35,
   "metadata": {},
   "outputs": [],
   "source": [
    "x_1 = np.linspace (min_member, max_member, 100) \n",
    "y_1 = gamma.pdf(x_1, a = a, scale = b)"
   ]
  },
  {
   "cell_type": "code",
   "execution_count": 36,
   "metadata": {},
   "outputs": [
    {
     "data": {
      "text/plain": [
       "(1.572, 35.182)"
      ]
     },
     "execution_count": 36,
     "metadata": {},
     "output_type": "execute_result"
    },
    {
     "data": {
      "image/png": "[encoded data removed]",
      "text/plain": [
       "<Figure size 432x288 with 1 Axes>"
      ]
     },
     "metadata": {
      "needs_background": "light"
     },
     "output_type": "display_data"
    }
   ],
   "source": [
    "plt.plot(x_1, y_1, color = \"black\")\n",
    "plt.ylim(0.00, 0.09)\n",
    "plt.xlim(min_member, max_member)"
   ]
  },
  {
   "cell_type": "code",
   "execution_count": 37,
   "metadata": {},
   "outputs": [],
   "source": [
    "# совместный график"
   ]
  },
  {
   "cell_type": "code",
   "execution_count": 38,
   "metadata": {},
   "outputs": [
    {
     "data": {
      "text/plain": [
       "(1.572, 35.182)"
      ]
     },
     "execution_count": 38,
     "metadata": {},
     "output_type": "execute_result"
    },
    {
     "data": {
      "image/png": "[encoded data removed]",
      "text/plain": [
       "<Figure size 432x288 with 1 Axes>"
      ]
     },
     "metadata": {
      "needs_background": "light"
     },
     "output_type": "display_data"
    }
   ],
   "source": [
    "plt.plot(x_1, y_1, color = \"black\")\n",
    "plt.hist(data, \n",
    "         bins = np.arange(min_member, max_member + 1, interval_length),\n",
    "         density = True, \n",
    "         range = (min_member, max_member), \n",
    "         color = \"#E7FF8F\")\n",
    "plt.ylim(0.00, 0.09)\n",
    "plt.xlim(min_member, max_member)"
   ]
  },
  {
   "cell_type": "code",
   "execution_count": 39,
   "metadata": {},
   "outputs": [],
   "source": [
    "# построение эмпирической функции распределения"
   ]
  },
  {
   "cell_type": "code",
   "execution_count": 40,
   "metadata": {},
   "outputs": [
    {
     "name": "stdout",
     "output_type": "stream",
     "text": [
      "0.0\n",
      "0.25\n",
      "0.65\n",
      "0.92\n",
      "0.98\n",
      "0.98\n",
      "0.99\n",
      "1.0\n"
     ]
    }
   ],
   "source": [
    "arf = [0] * (n + 1)\n",
    "sum = 0.0\n",
    "for i in range (0, n + 1):\n",
    "    arf[i] = sum\n",
    "    print(arf[i])\n",
    "    if arf[i] == 1: break\n",
    "    sum += rel_frequency[i]"
   ]
  },
  {
   "cell_type": "code",
   "execution_count": 41,
   "metadata": {},
   "outputs": [
    {
     "data": {
      "text/plain": [
       "(1.572, 35.182)"
      ]
     },
     "execution_count": 41,
     "metadata": {},
     "output_type": "execute_result"
    },
    {
     "data": {
      "image/png": "[encoded data removed]",
      "text/plain": [
       "<Figure size 432x288 with 1 Axes>"
      ]
     },
     "metadata": {
      "needs_background": "light"
     },
     "output_type": "display_data"
    }
   ],
   "source": [
    "def s_similar(z):\n",
    "    if z < hist_center[0]:\n",
    "        return arf[0]\n",
    "    elif hist_center[0] <= z < hist_center[1]:\n",
    "        return arf[1]\n",
    "    elif hist_center[1] <= z < hist_center[2]:\n",
    "        return arf[2]\n",
    "    elif hist_center[2] <= z < hist_center[3]:\n",
    "        return arf[3]\n",
    "    elif hist_center[3] <= z < hist_center[4]:\n",
    "        return arf[4]\n",
    "    elif hist_center[4] <= z < hist_center[5]:\n",
    "        return arf[5]\n",
    "    elif hist_center[5] <= z < hist_center[6]:\n",
    "        return arf[6]\n",
    "    elif hist_center[6] <= z:\n",
    "        return arf[7]\n",
    "    \n",
    "x_2 = np.linspace(min_member, max_member, 500)\n",
    "y_2 = np.vectorize(s_similar, otypes=[float])\n",
    "x_3 = np.linspace(min_member, max_member, 8)\n",
    "graph = plt.plot(x_2, y_2(x_2))\n",
    "plt.axhline(y = 1, color = 'r')\n",
    "plt.plot(x_3, arf)\n",
    "plt.ylim(0.0, 1.1)\n",
    "plt.xlim(min_member, max_member)"
   ]
  },
  {
   "cell_type": "code",
   "execution_count": 42,
   "metadata": {},
   "outputs": [],
   "source": [
    "# вывод: первоначальная обработка позволяет предварительно отнести выборку к гамма-распределению\n",
    "# с параметрами a = 3.80, b = 2.63"
   ]
  },
  {
   "cell_type": "code",
   "execution_count": null,
   "metadata": {},
   "outputs": [],
   "source": []
  }
 ],
 "metadata": {
  "kernelspec": {
   "display_name": "Python 3",
   "language": "python",
   "name": "python3"
  },
  "language_info": {
   "codemirror_mode": {
    "name": "ipython",
    "version": 3
   },
   "file_extension": ".py",
   "mimetype": "text/x-python",
   "name": "python",
   "nbconvert_exporter": "python",
   "pygments_lexer": "ipython3",
   "version": "3.7.0"
  }
 },
 "nbformat": 4,
 "nbformat_minor": 2
}
