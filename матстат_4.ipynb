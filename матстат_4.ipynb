{
 "cells": [
  {
   "cell_type": "code",
   "execution_count": 92,
   "metadata": {},
   "outputs": [],
   "source": [
    "import pandas as pd\n",
    "import numpy as np\n",
    "import scipy as sp\n",
    "import random\n",
    "import matplotlib.pyplot as plt\n",
    "from matplotlib.pyplot import MultipleLocator\n",
    "import math\n",
    "import seaborn as sb\n",
    "import scipy.special as sc\n"
   ]
  },
  {
   "cell_type": "code",
   "execution_count": 24,
   "metadata": {},
   "outputs": [],
   "source": [
    "k = 10\n",
    "n = 120"
   ]
  },
  {
   "cell_type": "code",
   "execution_count": 157,
   "metadata": {},
   "outputs": [],
   "source": [
    "alpha_1 = 0.15\n",
    "alpha_2 = 0.05\n",
    "alpha_3 = 0.02"
   ]
  },
  {
   "cell_type": "code",
   "execution_count": 158,
   "metadata": {},
   "outputs": [],
   "source": [
    "x = [4, 3, 3, 5, 6, 8, 4, 4, 2, 4, 6, 4, 4, 2, 3, 5, 4, 7, 4, 1, 4, 3, 2, 3,\n",
    "7, 2, 4, 4, 5, 5, 4, 3, 3, 5, 3, 5, 1, 3, 2, 5, 2, 5, 3, 4, 3, 3, 5, 5, 3,\n",
    "1, 4, 4, 4, 3, 3, 3, 5, 3, 4, 2, 4, 4, 3, 4, 3, 4, 3, 3, 5, 4, 2, 6, 2, 5,\n",
    "3, 4, 4, 2, 3, 5, 3, 4, 6, 5, 5, 7, 2, 1, 5, 3, 5, 4, 3, 2, 1, 5, 5, 3, 5,\n",
    "4, 5, 6, 3, 3, 2, 8, 4, 3, 3, 4, 2, 4, 5, 0, 4, 3, 7, 4, 2, 5]"
   ]
  },
  {
   "cell_type": "code",
   "execution_count": 159,
   "metadata": {},
   "outputs": [
    {
     "name": "stdout",
     "output_type": "stream",
     "text": [
      "453\n"
     ]
    }
   ],
   "source": [
    "#введём статистику K\n",
    "k_stat = sum(x)\n",
    "print(k_stat)"
   ]
  },
  {
   "cell_type": "code",
   "execution_count": 160,
   "metadata": {},
   "outputs": [
    {
     "data": {
      "image/png": "[encoded data removed]",
      "text/plain": [
       "<Figure size 432x288 with 1 Axes>"
      ]
     },
     "metadata": {},
     "output_type": "display_data"
    }
   ],
   "source": [
    "sb.set_style('whitegrid')\n",
    "\n",
    "px = np.arange(0.0000000001, 1, 0.0001)\n",
    "y1 = sp.stats.binom.ppf(0.9, n * k, px)\n",
    "y2 = sp.stats.binom.ppf(0.1, n * k, px)\n",
    "plt.plot(px, y1, label = 'C2(p, 0.1)')\n",
    "plt.plot(px, y2, label = 'C1(p, 0.1)')\n",
    "plt.step([0, 1],[k_stat, k_stat], linewidth = 1, label = '453')\n",
    "plt.xlabel('p')\n",
    "plt.xlim([0, 1])\n",
    "plt.ylim([0, 1200])\n",
    "plt.legend()\n",
    "plt.show()"
   ]
  },
  {
   "cell_type": "code",
   "execution_count": 161,
   "metadata": {},
   "outputs": [
    {
     "name": "stdout",
     "output_type": "stream",
     "text": [
      "для альфа_1:  0.35713100937940645 и  0.3982275407501735\n",
      "для альфа_2:  0.3499845805297377 и  0.4056174286498774\n",
      "для альфа_3:  0.3449808073009963 и  0.4108365451743796\n",
      "заметим, истинное значение вероятности p = 0.4 лежит между верхним и нижним значениями для каждого параметра альфа\n"
     ]
    }
   ],
   "source": [
    "#Оценка с помощью уравнений Клапейрона-Пирсона\n",
    "p_d_1 = sp.special.betaincinv(k_stat, n * k - k_stat + 1, alpha_1 / 2)\n",
    "p_u_1 = sp.special.betaincinv(k_stat + 1, n * k - k_stat, 1 - (alpha_1 / 2))\n",
    "print(\"для альфа_1: \", p_d_1, \"и \", p_u_1)\n",
    "\n",
    "p_d_2 = sp.special.betaincinv(k_stat, n * k - k_stat + 1, alpha_2 / 2)\n",
    "p_u_2 = sp.special.betaincinv(k_stat + 1, n * k - k_stat, 1 - (alpha_2 / 2))\n",
    "print(\"для альфа_2: \", p_d_2, \"и \", p_u_2)\n",
    "\n",
    "p_d_3 = sp.special.betaincinv(k_stat, n * k - k_stat + 1, alpha_3 / 2)\n",
    "p_u_3 = sp.special.betaincinv(k_stat + 1, n * k - k_stat, 1 - (alpha_3 / 2))\n",
    "print(\"для альфа_3: \", p_d_3, \"и \", p_u_3)\n",
    "\n",
    "print(\"заметим, истинное значение вероятности p = 0.4 лежит между верхним и нижним значениями для каждого параметра альфа\")"
   ]
  },
  {
   "cell_type": "code",
   "execution_count": 162,
   "metadata": {},
   "outputs": [],
   "source": [
    "#по ЦПТ найдём приближённые доверительные интервалы для p\n",
    "param = k_stat / (k * n)\n",
    "\n",
    "alpha1 = 0.15\n",
    "alpha2 = 0.05\n",
    "alpha3 = 0.02\n",
    "\n",
    "u1 = sp.stats.norm.ppf(1 - alpha1)\n",
    "u2 = sp.stats.norm.ppf(1 - alpha2)\n",
    "u3 = sp.stats.norm.ppf(1 - alpha3)\n",
    "\n",
    "pl1 = param - u1 / ((n * k) ** 0.5) * (param * (1 - param)) ** 0.5\n",
    "pr1 = param + u1 / ((n * k) ** 0.5) * (param * (1 - param)) ** 0.5\n",
    "\n",
    "pl2 = param - u2 / ((n * k) ** 0.5) * (param * (1 - param)) ** 0.5\n",
    "pr2 = param + u2 / ((n * k) ** 0.5) * (param * (1 - param)) ** 0.5\n",
    "\n",
    "pl3 = param - u3 / ((n * k) ** 0.5) * (param * (1 - param)) ** 0.5\n",
    "pr3 = param + u3 / ((n * k) ** 0.5) * (param * (1 - param)) ** 0.5"
   ]
  },
  {
   "cell_type": "code",
   "execution_count": 163,
   "metadata": {},
   "outputs": [],
   "source": [
    "df = pd.DataFrame({\"alpha_1\": [pl1, pr1], \"alpha_2\": [pl2, pr2], \"alpha_3\": [pl3, pr3]})"
   ]
  },
  {
   "cell_type": "code",
   "execution_count": 164,
   "metadata": {},
   "outputs": [
    {
     "name": "stdout",
     "output_type": "stream",
     "text": [
      "    alpha_1   alpha_2  alpha_3\n",
      "0  0.362996  0.354482  0.34876\n",
      "1  0.392004  0.400518  0.40624\n",
      "заметим, что истинное значение вероятности p = 0.4 лежит между правым и левым значениями для каждого параметра альфа\n"
     ]
    }
   ],
   "source": [
    "print(df)\n",
    "print(\"заметим, что истинное значение вероятности p = 0.4 лежит между правым и левым значениями для каждого параметра альфа\")"
   ]
  },
  {
   "cell_type": "code",
   "execution_count": 151,
   "metadata": {},
   "outputs": [],
   "source": [
    "def cumulative(p):\n",
    "    cp = np.array([])\n",
    "    s = 0\n",
    "    for element in p:\n",
    "        s += element\n",
    "        cp = np.append(cp, s) \n",
    "        \n",
    "    return cp\n",
    "\n",
    "def bernuli(p):\n",
    "    prob = np.array([])\n",
    "    for i in range(k + 1):\n",
    "        prob = np.append(prob, sc.comb(k,i) * p ** i * (1 - p) ** (k - i))\n",
    "    \n",
    "    return prob"
   ]
  },
  {
   "cell_type": "code",
   "execution_count": 156,
   "metadata": {},
   "outputs": [
    {
     "data": {
      "text/plain": [
       "<matplotlib.legend.Legend at 0x1fa08eb8e48>"
      ]
     },
     "execution_count": 156,
     "metadata": {},
     "output_type": "execute_result"
    },
    {
     "data": {
      "image/png": "[encoded data removed]",
      "text/plain": [
       "<Figure size 720x432 with 1 Axes>"
      ]
     },
     "metadata": {},
     "output_type": "display_data"
    }
   ],
   "source": [
    "plt.figure(figsize = (10, 6))\n",
    "rg = np.arange(0, k + 2, 1)\n",
    "\n",
    "bernuli_pl3 = bernuli(pl3)\n",
    "cumulative_pl3 = cumulative(bernuli_pl3)\n",
    "plt.step(rg, [0] + cumulative_pl1.tolist(), label = 'верхняя граница')\n",
    "\n",
    "bernuli_pr3 = bernuli(pr3)\n",
    "cumulative_pr3 = cumulative(bernuli_pr3)\n",
    "plt.step(rg, [0] + cumulative_pr1.tolist(), label = 'нижняя граница')\n",
    "\n",
    "bernuli_p = bernuli(0.4)\n",
    "cumulative_p = cumulative(bernuli_p)\n",
    "plt.step(rg, [0] + cumulative_p.tolist(), label = 'реальное значение')\n",
    "\n",
    "plt.legend()"
   ]
  }
 ],
 "metadata": {
  "kernelspec": {
   "display_name": "Python 3",
   "language": "python",
   "name": "python3"
  },
  "language_info": {
   "codemirror_mode": {
    "name": "ipython",
    "version": 3
   },
   "file_extension": ".py",
   "mimetype": "text/x-python",
   "name": "python",
   "nbconvert_exporter": "python",
   "pygments_lexer": "ipython3",
   "version": "3.7.0"
  }
 },
 "nbformat": 4,
 "nbformat_minor": 2
}
