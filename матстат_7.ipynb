{
 "cells": [
  {
   "cell_type": "code",
   "execution_count": 47,
   "metadata": {},
   "outputs": [],
   "source": [
    "import numpy as np\n",
    "import math\n",
    "import matplotlib.pyplot as plt\n",
    "import scipy.stats\n",
    "import random\n",
    "import pandas as pd"
   ]
  },
  {
   "cell_type": "code",
   "execution_count": 48,
   "metadata": {},
   "outputs": [
    {
     "data": {
      "text/html": [
       "<font color='green'>Дано:</font>"
      ],
      "text/plain": [
       "<IPython.core.display.HTML object>"
      ]
     },
     "metadata": {},
     "output_type": "display_data"
    },
    {
     "data": {
      "text/html": [
       "<font color='green'>A = 1</font>"
      ],
      "text/plain": [
       "<IPython.core.display.HTML object>"
      ]
     },
     "metadata": {},
     "output_type": "display_data"
    },
    {
     "data": {
      "text/html": [
       "<font color='green'>D = 2</font>"
      ],
      "text/plain": [
       "<IPython.core.display.HTML object>"
      ]
     },
     "metadata": {},
     "output_type": "display_data"
    },
    {
     "data": {
      "text/html": [
       "<font color='green'>n = 500</font>"
      ],
      "text/plain": [
       "<IPython.core.display.HTML object>"
      ]
     },
     "metadata": {},
     "output_type": "display_data"
    },
    {
     "data": {
      "text/html": [
       "<font color='green'>Пусть m = 10000</font>"
      ],
      "text/plain": [
       "<IPython.core.display.HTML object>"
      ]
     },
     "metadata": {},
     "output_type": "display_data"
    }
   ],
   "source": [
    "from IPython.core.display import display, HTML\n",
    "display(HTML(\"<font color='green'>Дано:</font>\"))\n",
    "display(HTML(\"<font color='green'>A = 1</font>\"))\n",
    "display(HTML(\"<font color='green'>D = 2</font>\"))\n",
    "display(HTML(\"<font color='green'>n = 500</font>\"))\n",
    "display(HTML(\"<font color='green'>Пусть m = 10000</font>\"))\n",
    "n = 500\n",
    "m = 10000"
   ]
  },
  {
   "cell_type": "code",
   "execution_count": 49,
   "metadata": {},
   "outputs": [],
   "source": [
    "data = []\n",
    "for j in range(m):\n",
    "    items = [np.sqrt(random.random()) for i in range(n)]\n",
    "    data.append(items)"
   ]
  },
  {
   "cell_type": "code",
   "execution_count": 50,
   "metadata": {},
   "outputs": [
    {
     "data": {
      "text/html": [
       "<font color='green'>Гистограмма относительных частот</font>"
      ],
      "text/plain": [
       "<IPython.core.display.HTML object>"
      ]
     },
     "metadata": {},
     "output_type": "display_data"
    },
    {
     "name": "stdout",
     "output_type": "stream",
     "text": [
      "0.097    16\n",
      "0.203    13\n",
      "0.310    26\n",
      "0.416    43\n",
      "0.522    51\n",
      "0.628    68\n",
      "0.734    86\n",
      "0.840    92\n",
      "0.947   105\n"
     ]
    },
    {
     "data": {
      "text/html": [
       "<font color='green'>Гистограмма</font>"
      ],
      "text/plain": [
       "<IPython.core.display.HTML object>"
      ]
     },
     "metadata": {},
     "output_type": "display_data"
    },
    {
     "data": {
      "image/png": "[encoded data removed]",
      "text/plain": [
       "<Figure size 432x288 with 1 Axes>"
      ]
     },
     "metadata": {
      "needs_background": "light"
     },
     "output_type": "display_data"
    },
    {
     "data": {
      "text/html": [
       "<font color='green'>Получим аналогичный результат, используя формулу p_этта(y) = p_кси(g^-1(y))|(g^-1(y))'|</font>"
      ],
      "text/plain": [
       "<IPython.core.display.HTML object>"
      ]
     },
     "metadata": {},
     "output_type": "display_data"
    },
    {
     "data": {
      "text/html": [
       "<font color='green'>p_этта(y) = 2y / (b - a), т.к. R[0, 1], в итоге p_этта(y) = 2y</font>"
      ],
      "text/plain": [
       "<IPython.core.display.HTML object>"
      ]
     },
     "metadata": {},
     "output_type": "display_data"
    },
    {
     "data": {
      "text/html": [
       "<font color='green'>Выборочное среднее и выборочная дисперсия</font>"
      ],
      "text/plain": [
       "<IPython.core.display.HTML object>"
      ]
     },
     "metadata": {},
     "output_type": "display_data"
    },
    {
     "name": "stdout",
     "output_type": "stream",
     "text": [
      "0.6814191094435373\n",
      "0.053202801312699104\n",
      "0.05330942015300512\n"
     ]
    }
   ],
   "source": [
    "#Группировка\n",
    "min_member = min(data[0])\n",
    "max_member = max(data[0])\n",
    "display(HTML(\"<font color='green'>Гистограмма относительных частот</font>\"))\n",
    "selection_range = max_member - min_member\n",
    "l = math.trunc(1 + 3.32*math.log(n, 10))\n",
    "interval_length = selection_range / l\n",
    "hist = np.histogram(data[0], l)\n",
    "hist_center = [0] * l\n",
    "for i in range (0, l):\n",
    "    hist_center[i] = hist[1][i] + interval_length / 2\n",
    "    print(\"%-7.3f %3d\" % (hist[1][i] + interval_length / 2, hist[0][i]))\n",
    "#display(HTML(\"<font color='green'>Относительные частоты</font>\"))\n",
    "rel_frequency = [0] * l\n",
    "for i in range (0, l):\n",
    "    rel_frequency[i] = hist[0][i] / n\n",
    "    #print(rel_frequency[i])\n",
    "#display(HTML(\"<font color='green'>Высоты столбцов гистограммы</font>\"))\n",
    "hist_hight = [0] * l\n",
    "for i in range (0, l): \n",
    "    hist_hight[i] = rel_frequency[i] / interval_length\n",
    "    #print(\"%5.5f\" % (hist_hight[i]))\n",
    "#display(HTML(\"<font color='green'>Границы интервалов</font>\"))\n",
    "borders = [0] * l\n",
    "for i in range (0, l): \n",
    "    borders[i] = hist[1][i] + interval_length\n",
    "    #print(\"%5.5f\" % (borders[i]))\n",
    "display(HTML(\"<font color='green'>Гистограмма</font>\"))\n",
    "plt.hist(data[0], \n",
    "         bins = np.arange(min_member, max_member + 1, interval_length),\n",
    "         density = True, \n",
    "         range = (min_member, max_member), \n",
    "         color = \"#E7FF8F\"\n",
    "        )\n",
    "y = np.linspace (0, 1, 100) \n",
    "plt.plot (y, 2 * y, label = \"p(y) = 2y\")\n",
    "plt.xlim(0, 1)\n",
    "plt.ylim(0, 2)\n",
    "plt.legend()\n",
    "plt.show()\n",
    "display(HTML(\"<font color='green'>Получим аналогичный результат, используя формулу p_этта(y) = p_кси(g^-1(y))|(g^-1(y))'|</font>\"))\n",
    "display(HTML(\"<font color='green'>p_этта(y) = 2y / (b - a), т.к. R[0, 1], в итоге p_этта(y) = 2y</font>\"))\n",
    "display(HTML(\"<font color='green'>Выборочное среднее и выборочная дисперсия</font>\"))\n",
    "sample_mean = np.mean(data[0])\n",
    "print(sample_mean)\n",
    "sample_variance_shift = np.var(data[0]) #смещённая дисперсия\n",
    "print(sample_variance_shift)\n",
    "sum = 0\n",
    "for i in data[0]:\n",
    "    sum += (i - sample_mean) ** 2\n",
    "sample_variance = sum / (n - 1) #несмещённая дисперсия\n",
    "print(sample_variance)"
   ]
  },
  {
   "cell_type": "code",
   "execution_count": 51,
   "metadata": {},
   "outputs": [
    {
     "data": {
      "text/html": [
       "<font color='green'>Чтобы найти плотность вероятности на каждом секторе, необходимо разбить этот треугольник на l = 9 частей и найти площади этих секторов.</font>"
      ],
      "text/plain": [
       "<IPython.core.display.HTML object>"
      ]
     },
     "metadata": {},
     "output_type": "display_data"
    },
    {
     "data": {
      "text/html": [
       "<font color='green'>Теперь найдём значение метрики: D2(n,l) = 1/n*sum(|vj-npj|)</font>"
      ],
      "text/plain": [
       "<IPython.core.display.HTML object>"
      ]
     },
     "metadata": {},
     "output_type": "display_data"
    },
    {
     "name": "stdout",
     "output_type": "stream",
     "text": [
      "   Имперические частоты  Теоретические частоты\n",
      "0                    16               6.172840\n",
      "1                    13              18.518519\n",
      "2                    26              30.864198\n",
      "3                    43              43.209877\n",
      "4                    51              55.555556\n",
      "5                    68              67.901235\n",
      "6                    86              80.246914\n",
      "7                    92              92.592593\n",
      "8                   105             104.938272\n"
     ]
    },
    {
     "data": {
      "text/html": [
       "<font color='green'>Для m выборок:</font>"
      ],
      "text/plain": [
       "<IPython.core.display.HTML object>"
      ]
     },
     "metadata": {},
     "output_type": "display_data"
    },
    {
     "data": {
      "text/html": [
       "<font color='green'>Отсортируем D по возрастанию:</font>"
      ],
      "text/plain": [
       "<IPython.core.display.HTML object>"
      ]
     },
     "metadata": {},
     "output_type": "display_data"
    },
    {
     "name": "stdout",
     "output_type": "stream",
     "text": [
      "[7.620789513795231e-06, 7.620789513795231e-06, 7.620789513795231e-06, 7.620789513795231e-06, 7.620789513795231e-06, 7.620789513795231e-06, 7.620789513795231e-06, 7.620789513795231e-06, 7.620789513795231e-06, 7.620789513795231e-06] ...\n"
     ]
    },
    {
     "data": {
      "text/html": [
       "<font color='green'>Вычислим критические значения Dкр для трёх уровней значимости alpha = 0.1, 0.05, 0.01:</font>"
      ],
      "text/plain": [
       "<IPython.core.display.HTML object>"
      ]
     },
     "metadata": {},
     "output_type": "display_data"
    },
    {
     "name": "stdout",
     "output_type": "stream",
     "text": [
      "Dкр(0.1) =  0.5080570035055628\n",
      "Dкр(0.05) =  0.717316262764822\n",
      "Dкр(0.01) =  1.2438347812833404\n"
     ]
    },
    {
     "data": {
      "text/html": [
       "<font color='green'>Построим гистограмму распределения D:</font>"
      ],
      "text/plain": [
       "<IPython.core.display.HTML object>"
      ]
     },
     "metadata": {},
     "output_type": "display_data"
    },
    {
     "data": {
      "text/html": [
       "<font color='green'>Гистограмма</font>"
      ],
      "text/plain": [
       "<IPython.core.display.HTML object>"
      ]
     },
     "metadata": {},
     "output_type": "display_data"
    },
    {
     "data": {
      "image/png": "[encoded data removed]",
      "text/plain": [
       "<Figure size 432x288 with 1 Axes>"
      ]
     },
     "metadata": {
      "needs_background": "light"
     },
     "output_type": "display_data"
    }
   ],
   "source": [
    "display(HTML(\"<font color='green'>Чтобы найти плотность вероятности на каждом секторе, необходимо разбить этот треугольник на l = 9 частей и найти площади этих секторов.</font>\"))\n",
    "p = []\n",
    "p_=[]\n",
    "for i in range (1, l + 1):\n",
    "    p.append(((i - 1) / l + i / l) * (1 / l))\n",
    "    p_.append(n * ((i - 1) / l + i / l) * (1 / l))\n",
    "display(HTML(\"<font color='green'>Теперь найдём значение метрики: D2(n,l) = 1/n*sum(|vj-npj|)</font>\"))\n",
    "frequency = pd.DataFrame({'Имперические частоты': hist[0],\n",
    "                          'Теоретические частоты': p_})\n",
    "print(frequency)\n",
    "display(HTML(\"<font color='green'>Для m выборок:</font>\"))\n",
    "frequency_1 = []\n",
    "D = []\n",
    "for i in range (m):\n",
    "    hist_1 = np.histogram(data[i], l)\n",
    "    frequency_1 += [hist_1[0]]\n",
    "for i in range(m):\n",
    "    for j in range(l):\n",
    "        z = 0\n",
    "        z += (frequency_1[i][j] - p_[j]) ** 2\n",
    "        d = (1 / n) * z\n",
    "    D.append(d)\n",
    "display(HTML(\"<font color='green'>Отсортируем D по возрастанию:</font>\"))\n",
    "print(sorted(D)[:10], \"...\")\n",
    "display(HTML(\"<font color='green'>Вычислим критические значения Dкр для трёх уровней значимости alpha = 0.1, 0.05, 0.01:</font>\"))\n",
    "print(\"Dкр(0.1) = \", sorted(D)[int(m - m * 0.1)])\n",
    "print(\"Dкр(0.05) = \", sorted(D)[int(m - m * 0.05)])\n",
    "print(\"Dкр(0.01) = \", sorted(D)[int(m - m * 0.01)])\n",
    "display(HTML(\"<font color='green'>Построим гистограмму распределения D:</font>\"))\n",
    "min_member = min(D)\n",
    "max_member = max(D)\n",
    "selection_range = max_member - min_member\n",
    "l_d = math.trunc(1 + 3.32*math.log(m, 10))\n",
    "interval_length = selection_range / l_d\n",
    "hist = np.histogram(D, l_d)\n",
    "\n",
    "display(HTML(\"<font color='green'>Гистограмма</font>\"))\n",
    "plt.hist(D, \n",
    "         bins = np.arange(min_member, max_member + 1, interval_length),\n",
    "         density = True, \n",
    "         range = (min_member, max_member), \n",
    "         color = \"#E7FF8F\")\n",
    "plt.show()"
   ]
  },
  {
   "cell_type": "code",
   "execution_count": 53,
   "metadata": {
    "scrolled": true
   },
   "outputs": [
    {
     "data": {
      "text/html": [
       "<font color='green'>Протестируем критерий</font>"
      ],
      "text/plain": [
       "<IPython.core.display.HTML object>"
      ]
     },
     "metadata": {},
     "output_type": "display_data"
    },
    {
     "data": {
      "text/html": [
       "<font color='green'>D1 = </font>"
      ],
      "text/plain": [
       "<IPython.core.display.HTML object>"
      ]
     },
     "metadata": {},
     "output_type": "display_data"
    },
    {
     "name": "stdout",
     "output_type": "stream",
     "text": [
      "7.620789513795231e-06\n"
     ]
    },
    {
     "data": {
      "text/html": [
       "<font color='green'>Dкр:</font>"
      ],
      "text/plain": [
       "<IPython.core.display.HTML object>"
      ]
     },
     "metadata": {},
     "output_type": "display_data"
    },
    {
     "name": "stdout",
     "output_type": "stream",
     "text": [
      "Dкр(0.1) =  0.5080570035055628\n",
      "Dкр(0.05) =  0.717316262764822\n",
      "Dкр(0.01) =  1.2438347812833404\n"
     ]
    },
    {
     "data": {
      "text/html": [
       "<font color='green'>D1 < Dкр => гипотеза A = 1 принимается. Критерий сработал верно!</font>"
      ],
      "text/plain": [
       "<IPython.core.display.HTML object>"
      ]
     },
     "metadata": {},
     "output_type": "display_data"
    },
    {
     "data": {
      "text/html": [
       "<font color='green'>Теперь протестируем критерий для выборки, полученной из закона бета-распределения с параметрами 1, 2</font>"
      ],
      "text/plain": [
       "<IPython.core.display.HTML object>"
      ]
     },
     "metadata": {},
     "output_type": "display_data"
    },
    {
     "data": {
      "text/html": [
       "<font color='green'>Гистограмма</font>"
      ],
      "text/plain": [
       "<IPython.core.display.HTML object>"
      ]
     },
     "metadata": {},
     "output_type": "display_data"
    },
    {
     "data": {
      "image/png": "[encoded data removed]",
      "text/plain": [
       "<Figure size 432x288 with 1 Axes>"
      ]
     },
     "metadata": {
      "needs_background": "light"
     },
     "output_type": "display_data"
    },
    {
     "data": {
      "text/html": [
       "<font color='green'>D2 = </font>"
      ],
      "text/plain": [
       "<IPython.core.display.HTML object>"
      ]
     },
     "metadata": {},
     "output_type": "display_data"
    },
    {
     "name": "stdout",
     "output_type": "stream",
     "text": [
      "22.024081694863586\n"
     ]
    },
    {
     "data": {
      "text/html": [
       "<font color='green'>Dкр:</font>"
      ],
      "text/plain": [
       "<IPython.core.display.HTML object>"
      ]
     },
     "metadata": {},
     "output_type": "display_data"
    },
    {
     "name": "stdout",
     "output_type": "stream",
     "text": [
      "Dкр(0.1) =  0.5080570035055628\n",
      "Dкр(0.05) =  0.717316262764822\n",
      "Dкр(0.01) =  1.2438347812833404\n"
     ]
    },
    {
     "data": {
      "text/html": [
       "<font color='green'>D2 > Dкр => гипотеза о бета-распределении отклоняется. Критерий сработал верно!</font>"
      ],
      "text/plain": [
       "<IPython.core.display.HTML object>"
      ]
     },
     "metadata": {},
     "output_type": "display_data"
    }
   ],
   "source": [
    "display(HTML(\"<font color='green'>Протестируем критерий</font>\"))\n",
    "display(HTML(\"<font color='green'>D1 = </font>\"))\n",
    "print(D[0])\n",
    "display(HTML(\"<font color='green'>Dкр:</font>\"))\n",
    "print(\"Dкр(0.1) = \", sorted(D)[int(m - m * 0.1)])\n",
    "print(\"Dкр(0.05) = \", sorted(D)[int(m - m * 0.05)])\n",
    "print(\"Dкр(0.01) = \", sorted(D)[int(m - m * 0.01)])\n",
    "display(HTML(\"<font color='green'>D1 < Dкр => гипотеза A = 1 принимается. Критерий сработал верно!</font>\"))\n",
    "display(HTML(\"<font color='green'>Теперь протестируем критерий для выборки, полученной из закона бета-распределения с параметрами 1, 2</font>\"))\n",
    "betta = [scipy.stats.beta.rvs(1, 2, 0) for i in range(n)]\n",
    "min_member = min(betta)\n",
    "max_member = max(betta)\n",
    "selection_range = max_member - min_member\n",
    "l_b = math.trunc(1 + 3.32*math.log(n, 10))\n",
    "interval_length = selection_range / l_b\n",
    "hist = np.histogram(betta, l_b)\n",
    "\n",
    "display(HTML(\"<font color='green'>Гистограмма</font>\"))\n",
    "plt.hist(betta, \n",
    "         bins = np.arange(min_member, max_member + 1, interval_length),\n",
    "         density = True, \n",
    "         range = (min_member, max_member), \n",
    "         color = \"#E7FF8F\")\n",
    "plt.show()\n",
    "for i in range(l):\n",
    "    z = 0\n",
    "    z += (np.histogram(betta[i], l)[0][i] - p_[i]) ** 2\n",
    "    d = (1 / n) * z\n",
    "display(HTML(\"<font color='green'>D2 = </font>\"))\n",
    "print(d)\n",
    "display(HTML(\"<font color='green'>Dкр:</font>\"))\n",
    "print(\"Dкр(0.1) = \", sorted(D)[int(m - m * 0.1)])\n",
    "print(\"Dкр(0.05) = \", sorted(D)[int(m - m * 0.05)])\n",
    "print(\"Dкр(0.01) = \", sorted(D)[int(m - m * 0.01)])\n",
    "display(HTML(\"<font color='green'>D2 > Dкр => гипотеза о бета-распределении отклоняется. Критерий сработал верно!</font>\"))"
   ]
  },
  {
   "cell_type": "code",
   "execution_count": null,
   "metadata": {},
   "outputs": [],
   "source": []
  }
 ],
 "metadata": {
  "kernelspec": {
   "display_name": "Python 3",
   "language": "python",
   "name": "python3"
  },
  "language_info": {
   "codemirror_mode": {
    "name": "ipython",
    "version": 3
   },
   "file_extension": ".py",
   "mimetype": "text/x-python",
   "name": "python",
   "nbconvert_exporter": "python",
   "pygments_lexer": "ipython3",
   "version": "3.7.0"
  }
 },
 "nbformat": 4,
 "nbformat_minor": 2
}
