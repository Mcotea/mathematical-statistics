{
 "cells": [
  {
   "cell_type": "code",
   "execution_count": 2,
   "metadata": {},
   "outputs": [],
   "source": [
    "import pandas as pd\n",
    "import numpy as np\n",
    "import scipy.special as sc\n",
    "import random\n",
    "import matplotlib.pyplot as plt\n",
    "from matplotlib.pyplot import MultipleLocator"
   ]
  },
  {
   "cell_type": "code",
   "execution_count": 3,
   "metadata": {},
   "outputs": [],
   "source": [
    "k = 10\n",
    "p = 0.4\n",
    "n = 120\n",
    "q = 1 - p"
   ]
  },
  {
   "cell_type": "code",
   "execution_count": 4,
   "metadata": {},
   "outputs": [
    {
     "name": "stdout",
     "output_type": "stream",
     "text": [
      "[0.006, 0.0403, 0.1209, 0.215, 0.2508, 0.2007, 0.1115, 0.0425, 0.0106, 0.0016, 0.0001]\n"
     ]
    }
   ],
   "source": [
    "p_vec = []\n",
    "for i in range(k + 1):\n",
    "    p_vec.append(sc.comb(k, i) * (p ** i) * (q ** (k - i)))\n",
    "print([round(v,4) for v in p_vec])"
   ]
  },
  {
   "cell_type": "code",
   "execution_count": 5,
   "metadata": {},
   "outputs": [
    {
     "name": "stdout",
     "output_type": "stream",
     "text": [
      "[0.006, 0.0464, 0.1673, 0.3823, 0.6331, 0.8338, 0.9452, 0.9877, 0.9983, 0.9999, 1.0]\n"
     ]
    }
   ],
   "source": [
    "u_vec = [0]\n",
    "for i in range(len(p_vec)):\n",
    "    u_vec.append(u_vec[i] + p_vec[i])\n",
    "u_vec.pop(0)\n",
    "print([round(v,4) for v in u_vec])"
   ]
  },
  {
   "cell_type": "code",
   "execution_count": 57,
   "metadata": {},
   "outputs": [
    {
     "name": "stdout",
     "output_type": "stream",
     "text": [
      "[0.5781, 0.7466, 0.0216, 0.6208, 0.5722, 0.4563, 0.0187, 0.7768, 0.4828, 0.8732, 0.8272, 0.6453, 0.7042, 0.7612, 0.1064, 0.7752, 0.7623, 0.6513, 0.0294, 0.9629, 0.7672, 0.548, 0.8011, 0.3664, 0.4838, 0.843, 0.9585, 0.3313, 0.5289, 0.5202, 0.5653, 0.1381, 0.4107, 0.1443, 0.4005, 0.0875, 0.2978, 0.6635, 0.6162, 0.5004, 0.0021, 0.3365, 0.5721, 0.8897, 0.4354, 0.5662, 0.201, 0.2693, 0.6559, 0.9184, 0.2451, 0.4114, 0.9991, 0.7386, 0.1958, 0.0259, 0.6232, 0.0565, 0.5261, 0.0303, 0.1447, 0.9313, 0.2103, 0.0913, 0.0609, 0.0716, 0.5519, 0.7407, 0.0683, 0.6142, 0.8283, 0.0049, 0.9209, 0.4211, 0.9699, 0.6147, 0.6458, 0.0734, 0.8492, 0.2702, 0.8422, 0.3435, 0.3866, 0.0357, 0.8283, 0.1145, 0.3659, 0.1327, 0.1925, 0.6211, 0.0578, 0.1197, 0.4454, 0.2987, 0.6321, 0.2949, 0.4746, 0.7587, 0.7894, 0.2455, 0.2712, 0.395, 0.3073, 0.3308, 0.5709, 0.4915, 0.9034, 0.3603, 0.926, 0.0112, 0.2448, 0.7942, 0.887, 0.0277, 0.6369, 0.667, 0.8127, 0.1893, 0.8227, 0.1999]\n"
     ]
    }
   ],
   "source": [
    "y = [random.random() for i in range(n)]\n",
    "print([round(v,4) for v in y])"
   ]
  },
  {
   "cell_type": "code",
   "execution_count": 58,
   "metadata": {},
   "outputs": [
    {
     "name": "stdout",
     "output_type": "stream",
     "text": [
      "[4, 5, 1, 4, 4, 4, 1, 5, 4, 6, 5, 5, 5, 5, 2, 5, 5, 5, 1, 7, 5, 4, 5, 3, 4, 6, 7, 3, 4, 4, 4, 2, 4, 2, 4, 2, 3, 5, 4, 4, 0, 3, 4, 6, 4, 4, 3, 3, 5, 6, 3, 4, 9, 5, 3, 1, 4, 2, 4, 1, 2, 6, 3, 2, 2, 2, 4, 5, 2, 4, 5, 0, 6, 4, 7, 4, 5, 2, 6, 3, 6, 3, 4, 1, 5, 2, 3, 2, 3, 4, 2, 2, 4, 3, 4, 3, 4, 5, 5, 3, 3, 4, 3, 3, 4, 4, 6, 3, 6, 1, 3, 5, 6, 1, 5, 5, 5, 3, 5, 3]\n"
     ]
    }
   ],
   "source": [
    "x = [0] * n\n",
    "for i in range (n):\n",
    "    if (y[i] < u_vec[0]):\n",
    "        x[i] = 0\n",
    "    elif (u_vec[0] <= y[i] < u_vec[1]):\n",
    "        x[i] = 1\n",
    "    elif (u_vec[1] <= y[i] < u_vec[2]):\n",
    "        x[i] = 2\n",
    "    elif (u_vec[2] <= y[i] < u_vec[3]):\n",
    "        x[i] = 3\n",
    "    elif (u_vec[3] <= y[i] < u_vec[4]):\n",
    "        x[i] = 4\n",
    "    elif (u_vec[4] <= y[i] < u_vec[5]):\n",
    "        x[i] = 5\n",
    "    elif (u_vec[5] <= y[i] < u_vec[6]):\n",
    "        x[i] = 6\n",
    "    elif (u_vec[6] <= y[i] < u_vec[7]):\n",
    "        x[i] = 7\n",
    "    elif (u_vec[7] <= y[i] < u_vec[8]):\n",
    "        x[i] = 8\n",
    "    elif (u_vec[8] <= y[i] < u_vec[9]):\n",
    "        x[i] = 9\n",
    "    elif (u_vec[9] <= y[i] <= u_vec[10]):\n",
    "        x[i] = 10\n",
    "print(x)"
   ]
  },
  {
   "cell_type": "code",
   "execution_count": 59,
   "metadata": {},
   "outputs": [
    {
     "name": "stdout",
     "output_type": "stream",
     "text": [
      "{0.5781: 4, 0.7466: 5, 0.0216: 1, 0.6208: 4, 0.5722: 4, 0.4563: 4, 0.0187: 1, 0.7768: 5, 0.4828: 4, 0.8732: 6, 0.8272: 5, 0.6453: 5, 0.7042: 5, 0.7612: 5, 0.1064: 2, 0.7752: 5, 0.7623: 5, 0.6513: 5, 0.0294: 1, 0.9629: 7, 0.7672: 5, 0.548: 4, 0.8011: 5, 0.3664: 3, 0.4838: 4, 0.843: 6, 0.9585: 7, 0.3313: 3, 0.5289: 4, 0.5202: 4, 0.5653: 4, 0.1381: 2, 0.4107: 4, 0.1443: 2, 0.4005: 4, 0.0875: 2, 0.2978: 3, 0.6635: 5, 0.6162: 4, 0.5004: 4, 0.0021: 0, 0.3365: 3, 0.5721: 4, 0.8897: 6, 0.4354: 4, 0.5662: 4, 0.201: 3, 0.2693: 3, 0.6559: 5, 0.9184: 6, 0.2451: 3, 0.4114: 4, 0.9991: 9, 0.7386: 5, 0.1958: 3, 0.0259: 1, 0.6232: 4, 0.0565: 2, 0.5261: 4, 0.0303: 1, 0.1447: 2, 0.9313: 6, 0.2103: 3, 0.0913: 2, 0.0609: 2, 0.0716: 2, 0.5519: 4, 0.7407: 5, 0.0683: 2, 0.6142: 4, 0.8283: 5, 0.0049: 0, 0.9209: 6, 0.4211: 4, 0.9699: 7, 0.6147: 4, 0.6458: 5, 0.0734: 2, 0.8492: 6, 0.2702: 3, 0.8422: 6, 0.3435: 3, 0.3866: 4, 0.0357: 1, 0.1145: 2, 0.3659: 3, 0.1327: 2, 0.1925: 3, 0.6211: 4, 0.0578: 2, 0.1197: 2, 0.4454: 4, 0.2987: 3, 0.6321: 4, 0.2949: 3, 0.4746: 4, 0.7587: 5, 0.7894: 5, 0.2455: 3, 0.2712: 3, 0.395: 4, 0.3073: 3, 0.3308: 3, 0.5709: 4, 0.4915: 4, 0.9034: 6, 0.3603: 3, 0.926: 6, 0.0112: 1, 0.2448: 3, 0.7942: 5, 0.887: 6, 0.0277: 1, 0.6369: 5, 0.667: 5, 0.8127: 5, 0.1893: 3, 0.8227: 5, 0.1999: 3}\n"
     ]
    }
   ],
   "source": [
    "tmp_1 = [round(v,4) for v in y]\n",
    "zip_map = dict(zip(tmp_1, x))\n",
    "print(zip_map)"
   ]
  },
  {
   "cell_type": "code",
   "execution_count": 60,
   "metadata": {},
   "outputs": [
    {
     "name": "stdout",
     "output_type": "stream",
     "text": [
      "[2, 8, 15, 23, 32, 25, 11, 3, 0, 1, 0]\n",
      "120\n"
     ]
    }
   ],
   "source": [
    "fq = [0] * (k + 1)\n",
    "for i in range (len(x)):\n",
    "    if x[i] == 0: fq[0] += 1\n",
    "    elif x[i] == 1: fq[1] += 1\n",
    "    elif x[i] == 2: fq[2] += 1\n",
    "    elif x[i] == 3: fq[3] += 1\n",
    "    elif x[i] == 4: fq[4] += 1\n",
    "    elif x[i] == 5: fq[5] += 1\n",
    "    elif x[i] == 6: fq[6] += 1\n",
    "    elif x[i] == 7: fq[7] += 1\n",
    "    elif x[i] == 8: fq[8] += 1\n",
    "    elif x[i] == 9: fq[9] += 1\n",
    "    else: fq[10] += 1\n",
    "print(fq)\n",
    "print(sum(fq))"
   ]
  },
  {
   "cell_type": "code",
   "execution_count": 61,
   "metadata": {},
   "outputs": [
    {
     "name": "stdout",
     "output_type": "stream",
     "text": [
      "[0.0167, 0.0667, 0.125, 0.1917, 0.2667, 0.2083, 0.0917, 0.025, 0.0, 0.0083, 0.0]\n"
     ]
    }
   ],
   "source": [
    "rel_fq = [0] * len(fq)\n",
    "for i in range(len(fq)):\n",
    "    rel_fq[i] = fq[i] / n\n",
    "print([round(v,4) for v in rel_fq])"
   ]
  },
  {
   "cell_type": "code",
   "execution_count": 62,
   "metadata": {},
   "outputs": [
    {
     "name": "stdout",
     "output_type": "stream",
     "text": [
      "[0.0167, 0.0833, 0.2083, 0.4, 0.6667, 0.875, 0.9667, 0.9917, 0.9917, 1.0, 1.0]\n"
     ]
    }
   ],
   "source": [
    "acc_rel_fq = [0]\n",
    "for i in range (len(fq)):\n",
    "    acc_rel_fq.append(acc_rel_fq[i] + rel_fq[i])\n",
    "acc_rel_fq.pop(0)\n",
    "print([round(v,4) for v in acc_rel_fq])"
   ]
  },
  {
   "cell_type": "code",
   "execution_count": 63,
   "metadata": {},
   "outputs": [
    {
     "name": "stdout",
     "output_type": "stream",
     "text": [
      "  Значения СВ  Частоты  Относитльные частоты  Накопленные частоты\n",
      "            0        2              0.016667             0.016667\n",
      "            1        8              0.066667             0.083333\n",
      "            2       15              0.125000             0.208333\n",
      "            3       23              0.191667             0.400000\n",
      "            4       32              0.266667             0.666667\n",
      "            5       25              0.208333             0.875000\n",
      "            6       11              0.091667             0.966667\n",
      "            7        3              0.025000             0.991667\n",
      "            8        0              0.000000             0.991667\n",
      "            9        1              0.008333             1.000000\n",
      "           10        0              0.000000             1.000000\n"
     ]
    }
   ],
   "source": [
    "df = pd.DataFrame({'Значения СВ': [0, 1, 2, 3, 4, 5, 6, 7, 8, 9, 10], \n",
    "                   'Частоты': fq, 'Относитльные частоты': rel_fq, \n",
    "                   'Накопленные частоты': acc_rel_fq}, index = [''] * (k + 1))\n",
    "print(df)"
   ]
  },
  {
   "cell_type": "code",
   "execution_count": 64,
   "metadata": {},
   "outputs": [
    {
     "data": {
      "text/plain": [
       "<matplotlib.legend.Legend at 0x159b94c1a58>"
      ]
     },
     "execution_count": 64,
     "metadata": {},
     "output_type": "execute_result"
    },
    {
     "data": {
      "image/png": "[encoded data removed]",
      "text/plain": [
       "<Figure size 432x288 with 1 Axes>"
      ]
     },
     "metadata": {
      "needs_background": "light"
     },
     "output_type": "display_data"
    }
   ],
   "source": [
    "#Теоретическая функция распределения\n",
    "def raspred_teor(z):\n",
    "    if z <= 0: return 0\n",
    "    elif 0 < z <= 1: return u_vec[0]\n",
    "    elif 1 < z <= 2: return u_vec[1]\n",
    "    elif 2 < z <= 3: return u_vec[2]\n",
    "    elif 3 < z <= 4: return u_vec[3]\n",
    "    elif 4 < z <= 5: return u_vec[4]\n",
    "    elif 5 < z <= 6: return u_vec[5]\n",
    "    elif 6 < z <= 7: return u_vec[6]\n",
    "    elif 7 < z <= 8: return u_vec[7]\n",
    "    elif 8 < z <= 9: return u_vec[8]\n",
    "    elif 9 < z <= 10: return u_vec[9]\n",
    "    else: return u_vec[10]\n",
    "x_param_t = np.linspace(-1, 10, 500)\n",
    "y_param_t = np.vectorize(raspred_teor, otypes=[float])\n",
    "\n",
    "#Эмпирическая функция распределения\n",
    "def raspred_emper(z):\n",
    "    if z <= 0: return 0\n",
    "    elif 0 < z <= 1: return acc_rel_fq[0]\n",
    "    elif 1 < z <= 2: return acc_rel_fq[1]\n",
    "    elif 2 < z <= 3: return acc_rel_fq[2]\n",
    "    elif 3 < z <= 4: return acc_rel_fq[3]\n",
    "    elif 4 < z <= 5: return acc_rel_fq[4]\n",
    "    elif 5 < z <= 6: return acc_rel_fq[5]\n",
    "    elif 6 < z <= 7: return acc_rel_fq[6]\n",
    "    elif 7 < z <= 8: return acc_rel_fq[7]\n",
    "    elif 8 < z <= 9: return acc_rel_fq[8]\n",
    "    elif 9 < z <= 10: return acc_rel_fq[9]\n",
    "    else: return acc_rel_fq[10]\n",
    "x_param_e = np.linspace(-1, 10, 500)\n",
    "y_param_e = np.vectorize(raspred_emper, otypes=[float])\n",
    "ax = plt.gca()\n",
    "plt.plot(x_param_t, y_param_t(x_param_t), \"--\", linewidth = 1, label = 'теоретическая')\n",
    "plt.plot(x_param_e, y_param_e(x_param_e), linewidth = 1, label = 'эмпирическая')\n",
    "x_major_locator = MultipleLocator(1)\n",
    "ax.xaxis.set_major_locator(x_major_locator)\n",
    "plt.ylim(0, 1.1)\n",
    "plt.xlim(-1, 10)\n",
    "plt.legend()"
   ]
  },
  {
   "cell_type": "code",
   "execution_count": 37,
   "metadata": {},
   "outputs": [
    {
     "name": "stdout",
     "output_type": "stream",
     "text": [
      "0.0173\n"
     ]
    }
   ],
   "source": [
    "#Статистика Колмогорова\n",
    "diff_2_3 = abs(acc_rel_fq[2] - u_vec[2])\n",
    "print(round(diff_2_3, 4))"
   ]
  },
  {
   "cell_type": "code",
   "execution_count": 36,
   "metadata": {},
   "outputs": [
    {
     "name": "stdout",
     "output_type": "stream",
     "text": [
      "0.017289753599999985\n",
      "[0.0, 0.03333333333333333, 0.15, 0.375, 0.625, 0.8416666666666667, 0.9333333333333333, 0.9916666666666667, 0.9916666666666667, 0.9916666666666667, 1.0]\n",
      "[0.006046617599999997, 0.04635740159999999, 0.16728975359999998, 0.3822806016, 0.6331032576, 0.8337613824, 0.9452381184, 0.9877054464, 0.9983222784, 0.9998951424, 1.0]\n"
     ]
    }
   ],
   "source": [
    "b = []\n",
    "for i in range(len(u_vec)):\n",
    "    b.append(abs(acc_rel_fq[i] - u_vec[i]))\n",
    "print(max(b))\n",
    "print(acc_rel_fq)\n",
    "print(u_vec)"
   ]
  },
  {
   "cell_type": "code",
   "execution_count": 45,
   "metadata": {},
   "outputs": [
    {
     "name": "stdout",
     "output_type": "stream",
     "text": [
      "4.0\n",
      "2.4\n"
     ]
    }
   ],
   "source": [
    "#Вычисляем теоретическое значение выборочного среднего и выборочной дисперсии\n",
    "m = 0\n",
    "for i in range (k + 1):\n",
    "    m += i * p_vec[i]\n",
    "print(m)\n",
    "d = 0\n",
    "for i in range (k + 1):\n",
    "    d += (i - m) ** 2 * p_vec[i]\n",
    "print(d)"
   ]
  },
  {
   "cell_type": "code",
   "execution_count": 7,
   "metadata": {},
   "outputs": [
    {
     "name": "stdout",
     "output_type": "stream",
     "text": [
      "3.8\n",
      "2.526666666666667\n"
     ]
    }
   ],
   "source": [
    "#Вычисляем фактическое значение выборочного среднего и выборочной дисперсии\n",
    "x = [4, 5, 1, 4, 4, 4, 1, 5, 4, 6, 5, 5, 5, 5, 2, 5, 5, 5, 1, 7, 5, 4, 5, 3, 4, 6, 7, 3, 4, 4, 4, 2, 4, 2, 4, 2, 3, 5, 4, 4, 0, 3, 4, 6, 4, 4, 3, 3, 5, 6, 3, 4, 9, 5, 3, 1, 4, 2, 4, 1, 2, 6, 3, 2, 2, 2, 4, 5, 2, 4, 5, 0, 6, 4, 7, 4, 5, 2, 6, 3, 6, 3, 4, 1, 5, 2, 3, 2, 3, 4, 2, 2, 4, 3, 4, 3, 4, 5, 5, 3, 3, 4, 3, 3, 4, 4, 6, 3, 6, 1, 3, 5, 6, 1, 5, 5, 5, 3, 5, 3]\n",
    "print(np.mean(x))\n",
    "print(np.var(x))"
   ]
  },
  {
   "cell_type": "code",
   "execution_count": 47,
   "metadata": {},
   "outputs": [
    {
     "name": "stdout",
     "output_type": "stream",
     "text": [
      "0.06666666666666643\n",
      "0.004444444444444251\n"
     ]
    }
   ],
   "source": [
    "print(abs(m - np.mean(x)))\n",
    "print(abs(d - np.var(x)))"
   ]
  },
  {
   "cell_type": "code",
   "execution_count": 1,
   "metadata": {},
   "outputs": [
    {
     "data": {
      "text/plain": [
       "10"
      ]
     },
     "execution_count": 1,
     "metadata": {},
     "output_type": "execute_result"
    }
   ],
   "source": [
    "arr = [24, 54, 41, 17, 48, 33, 42, 44, 92, 27]\n",
    "len(arr)"
   ]
  },
  {
   "cell_type": "code",
   "execution_count": 2,
   "metadata": {},
   "outputs": [],
   "source": [
    "s = 0\n",
    "for i in range (10):\n",
    "    s += ((1/9)*(arr[i]-42.2)**2)"
   ]
  },
  {
   "cell_type": "code",
   "execution_count": 3,
   "metadata": {},
   "outputs": [
    {
     "data": {
      "text/plain": [
       "437.73333333333323"
      ]
     },
     "execution_count": 3,
     "metadata": {},
     "output_type": "execute_result"
    }
   ],
   "source": [
    "s"
   ]
  },
  {
   "cell_type": "code",
   "execution_count": null,
   "metadata": {},
   "outputs": [],
   "source": []
  }
 ],
 "metadata": {
  "kernelspec": {
   "display_name": "Python 3",
   "language": "python",
   "name": "python3"
  },
  "language_info": {
   "codemirror_mode": {
    "name": "ipython",
    "version": 3
   },
   "file_extension": ".py",
   "mimetype": "text/x-python",
   "name": "python",
   "nbconvert_exporter": "python",
   "pygments_lexer": "ipython3",
   "version": "3.7.0"
  }
 },
 "nbformat": 4,
 "nbformat_minor": 2
}
