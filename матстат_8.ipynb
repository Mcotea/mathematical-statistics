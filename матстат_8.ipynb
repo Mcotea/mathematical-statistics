{
 "cells": [
  {
   "cell_type": "code",
   "execution_count": 1,
   "metadata": {},
   "outputs": [],
   "source": [
    "import numpy as np\n",
    "import math\n",
    "import matplotlib.pyplot as plt\n",
    "import scipy.stats\n",
    "import pandas as pd"
   ]
  },
  {
   "cell_type": "code",
   "execution_count": 2,
   "metadata": {},
   "outputs": [
    {
     "data": {
      "text/plain": [
       "100"
      ]
     },
     "execution_count": 2,
     "metadata": {},
     "output_type": "execute_result"
    }
   ],
   "source": [
    "data = [8.432, 6.077, 8.982, 2.897, 5.784, 29.159, 14.564, 9.869, 11.621, 10.405,\n",
    "     11.589, 15, 8.659, 15.142, 5.345, 7.69, 16.504, 8.742, 2.834, 9.846,\n",
    "     13.697, 13.167, 6.846, 6.727, 12.614, 3.655, 19.627, 1.572, 11.4, 8.384,\n",
    "     4.807, 7.897, 13.881, 6.244, 13.188, 12.419, 8.279, 9.37, 7.233, 15.503,\n",
    "     13.47, 8.511, 10.134, 18.831, 9.422, 3.715, 8.63, 6.99, 10.187, 17.491,\n",
    "     8.262, 11.019, 13.02, 7.619, 5.1, 7.757, 7.772, 16.063, 8.736, 12.214,\n",
    "     7.998, 5.651, 5.225, 8.525, 12.935, 9.312, 5.12, 6.146, 19.032, 15.049,\n",
    "     9.643, 8.633, 4.367, 3.91, 5.957, 6.345, 14.577, 9.878, 13.658, 4.104,\n",
    "     5.752, 5.693, 15.207, 6.776, 5.055, 4.96, 35.182, 14.399, 13.383, 14.144,\n",
    "     3.77, 6.394, 11.695, 8.474, 13.196, 7.636, 11.219, 10.463, 6.802, 10.135]\n",
    "len(data)"
   ]
  },
  {
   "cell_type": "code",
   "execution_count": 3,
   "metadata": {},
   "outputs": [],
   "source": [
    "alpha = 0.05\n",
    "#Гипотеза H_0: выборка взята из генеральной совокупности,\n",
    "#распределённой по закону кси-квадрат"
   ]
  },
  {
   "cell_type": "code",
   "execution_count": 4,
   "metadata": {},
   "outputs": [
    {
     "data": {
      "text/html": [
       "<font color='green'>Гистограмма относительных частот</font>"
      ],
      "text/plain": [
       "<IPython.core.display.HTML object>"
      ]
     },
     "metadata": {},
     "output_type": "display_data"
    },
    {
     "name": "stdout",
     "output_type": "stream",
     "text": [
      "3.973    25\n",
      "8.774    40\n",
      "13.576   27\n",
      "18.377    6\n",
      "23.178    0\n",
      "27.980    1\n",
      "32.781    1\n"
     ]
    },
    {
     "data": {
      "text/html": [
       "<font color='green'>Относительные частоты</font>"
      ],
      "text/plain": [
       "<IPython.core.display.HTML object>"
      ]
     },
     "metadata": {},
     "output_type": "display_data"
    },
    {
     "name": "stdout",
     "output_type": "stream",
     "text": [
      "0.25\n",
      "0.4\n",
      "0.27\n",
      "0.06\n",
      "0.0\n",
      "0.01\n",
      "0.01\n"
     ]
    },
    {
     "data": {
      "text/html": [
       "<font color='green'>Высоты столбцов гистограммы</font>"
      ],
      "text/plain": [
       "<IPython.core.display.HTML object>"
      ]
     },
     "metadata": {},
     "output_type": "display_data"
    },
    {
     "name": "stdout",
     "output_type": "stream",
     "text": [
      "0.05207\n",
      "0.08331\n",
      "0.05623\n",
      "0.01250\n",
      "0.00000\n",
      "0.00208\n",
      "0.00208\n"
     ]
    },
    {
     "data": {
      "text/html": [
       "<font color='green'>Границы интервалов</font>"
      ],
      "text/plain": [
       "<IPython.core.display.HTML object>"
      ]
     },
     "metadata": {},
     "output_type": "display_data"
    },
    {
     "name": "stdout",
     "output_type": "stream",
     "text": [
      "6.37343\n",
      "11.17486\n",
      "15.97629\n",
      "20.77771\n",
      "25.57914\n",
      "30.38057\n",
      "35.18200\n"
     ]
    },
    {
     "data": {
      "text/html": [
       "<font color='green'>Гистограмма</font>"
      ],
      "text/plain": [
       "<IPython.core.display.HTML object>"
      ]
     },
     "metadata": {},
     "output_type": "display_data"
    },
    {
     "data": {
      "image/png": "[encoded data removed]",
      "text/plain": [
       "<Figure size 432x288 with 1 Axes>"
      ]
     },
     "metadata": {
      "needs_background": "light"
     },
     "output_type": "display_data"
    },
    {
     "data": {
      "text/html": [
       "<font color='green'>Выборочное среднее и выборочная дисперсия</font>"
      ],
      "text/plain": [
       "<IPython.core.display.HTML object>"
      ]
     },
     "metadata": {},
     "output_type": "display_data"
    },
    {
     "name": "stdout",
     "output_type": "stream",
     "text": [
      "9.969940000000001\n",
      "25.9183433764\n",
      "26.180144824646455\n"
     ]
    }
   ],
   "source": [
    "from IPython.core.display import display, HTML\n",
    "#Группировка\n",
    "min_member = min(data)\n",
    "max_member = max(data)\n",
    "display(HTML(\"<font color='green'>Гистограмма относительных частот</font>\"))\n",
    "selection_range = max_member - min_member\n",
    "n = math.trunc(1 + 3.32*math.log(len(data), 10))\n",
    "interval_length = selection_range / n\n",
    "hist = np.histogram(data, n)\n",
    "hist_center = [0] * n\n",
    "for i in range (0, n):\n",
    "    hist_center[i] = hist[1][i] + interval_length / 2\n",
    "    print(\"%-7.3f %3d\" % (hist[1][i] + interval_length / 2, hist[0][i]))\n",
    "display(HTML(\"<font color='green'>Относительные частоты</font>\"))\n",
    "rel_frequency = [0] * n\n",
    "for i in range (0, n):\n",
    "    rel_frequency[i] = hist[0][i] / len(data)\n",
    "    print(rel_frequency[i])\n",
    "display(HTML(\"<font color='green'>Высоты столбцов гистограммы</font>\"))\n",
    "hist_hight = [0] * n\n",
    "for i in range (0, n): \n",
    "    hist_hight[i] = rel_frequency[i] / interval_length\n",
    "    print(\"%5.5f\" % (hist_hight[i]))\n",
    "display(HTML(\"<font color='green'>Границы интервалов</font>\"))\n",
    "borders = [0] * n\n",
    "for i in range (0, n): \n",
    "    borders[i] = hist[1][i] + interval_length\n",
    "    print(\"%5.5f\" % (borders[i]))\n",
    "display(HTML(\"<font color='green'>Гистограмма</font>\"))\n",
    "plt.hist(data, \n",
    "         bins = np.arange(min_member, max_member + 1, interval_length),\n",
    "         density = True, \n",
    "         range = (min_member, max_member), \n",
    "         color = \"#E7FF8F\")\n",
    "plt.plot(hist_center, hist_hight, color = \"black\")\n",
    "plt.ylim(0.00, 0.09)\n",
    "plt.xlim(min_member, max_member)\n",
    "plt.show()\n",
    "display(HTML(\"<font color='green'>Выборочное среднее и выборочная дисперсия</font>\"))\n",
    "sample_mean = np.mean(data)\n",
    "print(sample_mean)\n",
    "sample_variance_shift = np.var(data) #смещённая дисперсия\n",
    "print(sample_variance_shift)\n",
    "sum = 0\n",
    "for i in data:\n",
    "    sum += (i - sample_mean) ** 2\n",
    "sample_variance = sum / (len(data) - 1) #несмещённая дисперсия\n",
    "print(sample_variance)"
   ]
  },
  {
   "cell_type": "code",
   "execution_count": 5,
   "metadata": {},
   "outputs": [],
   "source": [
    "#Для распределения хи-квадрат\n",
    "#Первый момент = k (находим методом моментов)"
   ]
  },
  {
   "cell_type": "code",
   "execution_count": 6,
   "metadata": {},
   "outputs": [
    {
     "data": {
      "text/html": [
       "<font color='green'>График, соответствующий гипотезе H_0:</font>"
      ],
      "text/plain": [
       "<IPython.core.display.HTML object>"
      ]
     },
     "metadata": {},
     "output_type": "display_data"
    },
    {
     "data": {
      "image/png": "[encoded data removed]",
      "text/plain": [
       "<Figure size 432x288 with 1 Axes>"
      ]
     },
     "metadata": {
      "needs_background": "light"
     },
     "output_type": "display_data"
    },
    {
     "data": {
      "text/html": [
       "<font color='green'>Совмещённый график гистограммы и хи-квадрат распределения с k = 9.96994</font>"
      ],
      "text/plain": [
       "<IPython.core.display.HTML object>"
      ]
     },
     "metadata": {},
     "output_type": "display_data"
    },
    {
     "data": {
      "image/png": "[encoded data removed]",
      "text/plain": [
       "<Figure size 432x288 with 1 Axes>"
      ]
     },
     "metadata": {
      "needs_background": "light"
     },
     "output_type": "display_data"
    }
   ],
   "source": [
    "k = sample_mean\n",
    "x_1 = np.linspace (min_member, max_member, 100) \n",
    "plt.plot (x_1, scipy.stats.chi2.pdf (x_1, df = k ))\n",
    "plt.ylim(0.00, 0.10)\n",
    "plt.xlim(min_member, max_member)\n",
    "display(HTML(\"<font color='green'>График, соответствующий гипотезе H_0:</font>\"))\n",
    "plt.show()\n",
    "plt.hist(data, \n",
    "         bins = np.arange(min_member, max_member + 1, interval_length),\n",
    "         density = True, \n",
    "         range = (min_member, max_member), \n",
    "         color = \"#E7FF8F\")\n",
    "plt.plot (x_1, scipy.stats.chi2.pdf (x_1, df = k )) \n",
    "plt.xlim(min_member, max_member)\n",
    "display(HTML(\"<font color='green'>Совмещённый график гистограммы и хи-квадрат распределения с k = 9.96994</font>\"))\n",
    "plt.show()"
   ]
  },
  {
   "cell_type": "code",
   "execution_count": 7,
   "metadata": {},
   "outputs": [
    {
     "data": {
      "text/html": [
       "<font color='green'>Найдём теоретические частоты</font>"
      ],
      "text/plain": [
       "<IPython.core.display.HTML object>"
      ]
     },
     "metadata": {},
     "output_type": "display_data"
    },
    {
     "name": "stdout",
     "output_type": "stream",
     "text": [
      "    интервал             Имперические частоты  Теоретические частоты\n",
      "0   1.572000   6.373429                    25              21.786941\n",
      "1   6.373429  11.174857                    40              43.922088\n",
      "2  11.174857  15.976286                    27              24.236712\n",
      "3  15.976286  20.777714                     6               7.682367\n",
      "4  20.777714  25.579143                     0               1.809727\n",
      "5  25.579143  30.380571                     1               0.354772\n",
      "6  30.380571  35.182000                     1               0.061397\n"
     ]
    },
    {
     "data": {
      "text/html": [
       "<font color='green'>Объединим последние три интервала</font>"
      ],
      "text/plain": [
       "<IPython.core.display.HTML object>"
      ]
     },
     "metadata": {},
     "output_type": "display_data"
    },
    {
     "name": "stdout",
     "output_type": "stream",
     "text": [
      "[21.786941157009267, 43.92208785754879, 24.23671247374267, 7.682367306610582, 2.225895892490304]\n"
     ]
    },
    {
     "data": {
      "text/html": [
       "<font color='green'>Последняя частота < 5, поэтому объединяем её с предыдущей</font>"
      ],
      "text/plain": [
       "<IPython.core.display.HTML object>"
      ]
     },
     "metadata": {},
     "output_type": "display_data"
    },
    {
     "name": "stdout",
     "output_type": "stream",
     "text": [
      "[21.786941157009267, 43.92208785754879, 24.23671247374267, 9.908263199100887]\n"
     ]
    },
    {
     "data": {
      "text/html": [
       "<font color='green'>X^2b = </font>"
      ],
      "text/plain": [
       "<IPython.core.display.HTML object>"
      ]
     },
     "metadata": {},
     "output_type": "display_data"
    },
    {
     "name": "stdout",
     "output_type": "stream",
     "text": [
      "2.680722333765452\n"
     ]
    },
    {
     "data": {
      "text/html": [
       "<font color='green'>Число степеней свободы: 4 - 1 - 1</font>"
      ],
      "text/plain": [
       "<IPython.core.display.HTML object>"
      ]
     },
     "metadata": {},
     "output_type": "display_data"
    },
    {
     "data": {
      "text/html": [
       "<font color='green'>X^2alpha = </font>"
      ],
      "text/plain": [
       "<IPython.core.display.HTML object>"
      ]
     },
     "metadata": {},
     "output_type": "display_data"
    },
    {
     "name": "stdout",
     "output_type": "stream",
     "text": [
      "5.991464547107979\n"
     ]
    }
   ],
   "source": [
    "display(HTML(\"<font color='green'>Найдём теоретические частоты</font>\"))\n",
    "borders = [min_member] + borders\n",
    "b0 = [borders[i] for i in range(len(borders) - 1)]\n",
    "b1 = [borders[i + 1] for i in range(len(borders) - 1)]\n",
    "teor_frequency = [100 * (scipy.stats.chi2.cdf(x = b1[i], df = k) - scipy.stats.chi2.cdf(x = b0[i], df = k)) for i in range(7)]\n",
    "\n",
    "frequency = pd.DataFrame({'интервал': b0,'': b1,\n",
    "                 'Имперические частоты': hist[0],\n",
    "                 'Теоретические частоты': teor_frequency})\n",
    "print(frequency)\n",
    "display(HTML(\"<font color='green'>Объединим последние три интервала</font>\"))\n",
    "merge1 = np.sum(teor_frequency[4:7]) \n",
    "teor_frequency = teor_frequency[0:4] + [merge1]\n",
    "print(teor_frequency)\n",
    "display(HTML(\"<font color='green'>Последняя частота < 5, поэтому объединяем её с предыдущей</font>\"))\n",
    "merge2 = np.sum(teor_frequency[3:5]) \n",
    "teor_frequency = teor_frequency[0:3] + [merge2]\n",
    "print(teor_frequency)\n",
    "hi_kv_b = [0] * len(teor_frequency)\n",
    "for i in range(len(teor_frequency)):\n",
    "    hi_kv_b[i] = ((hist[0][i] - teor_frequency[i]) ** 2) / teor_frequency[i]\n",
    "display(HTML(\"<font color='green'>X^2b = </font>\"))\n",
    "print(np.sum(hi_kv_b))\n",
    "display(HTML(\"<font color='green'>Число степеней свободы: 4 - 1 - 1</font>\"))\n",
    "m = len(teor_frequency) - 1 - 1\n",
    "display(HTML(\"<font color='green'>X^2alpha = </font>\"))\n",
    "print(scipy.stats.chi2.ppf(1 - alpha, m))"
   ]
  },
  {
   "cell_type": "code",
   "execution_count": 8,
   "metadata": {},
   "outputs": [
    {
     "data": {
      "text/html": [
       "<font color='black'>Вывод: Гипотеза H_0: выборка взята из генеральной совокупности, распределённой по закону кси-квадрат </font><font color='red'>принимается </font><font color='black'>на уровне доверия 0,95.</font>"
      ],
      "text/plain": [
       "<IPython.core.display.HTML object>"
      ]
     },
     "metadata": {},
     "output_type": "display_data"
    }
   ],
   "source": [
    "display(HTML(\"<font color='black'>Вывод: Гипотеза H_0: выборка взята из генеральной совокупности, распределённой по закону кси-квадрат </font><font color='red'>принимается </font><font color='black'>на уровне доверия 0,95.</font>\")) "
   ]
  }
 ],
 "metadata": {
  "kernelspec": {
   "display_name": "Python 3",
   "language": "python",
   "name": "python3"
  },
  "language_info": {
   "codemirror_mode": {
    "name": "ipython",
    "version": 3
   },
   "file_extension": ".py",
   "mimetype": "text/x-python",
   "name": "python",
   "nbconvert_exporter": "python",
   "pygments_lexer": "ipython3",
   "version": "3.7.0"
  }
 },
 "nbformat": 4,
 "nbformat_minor": 2
}
