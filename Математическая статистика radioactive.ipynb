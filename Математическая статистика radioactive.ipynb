{
 "cells": [
  {
   "cell_type": "code",
   "execution_count": 150,
   "metadata": {},
   "outputs": [],
   "source": [
    "import numpy as np\n",
    "import math\n",
    "import matplotlib.pyplot as plt\n",
    "import scipy.stats\n",
    "from matplotlib.pyplot import MultipleLocator\n",
    "import pandas as pd"
   ]
  },
  {
   "cell_type": "code",
   "execution_count": 151,
   "metadata": {},
   "outputs": [
    {
     "name": "stdout",
     "output_type": "stream",
     "text": [
      "[0, 0, 0, 0, 0, 0, 0, 0, 0, 0, 0, 0, 0, 0, 0, 0, 0, 0, 0, 0, 0, 0, 0, 0, 0, 0, 0, 0, 0, 0, 0, 0, 0, 0, 0, 0, 0, 0, 0, 0, 0, 0, 0, 0, 0, 0, 0, 0, 0, 0, 0, 0, 0, 0, 0, 0, 0, 0, 0, 0, 0, 0, 0, 0, 0, 0, 0, 0, 0, 0, 0, 0, 0, 0, 0, 0, 0, 0, 0, 0, 0, 0, 0, 0, 0, 0, 0, 0, 0, 0, 0, 0, 0, 0, 0, 0, 0, 0, 0, 0, 0, 0, 0, 0, 0, 0, 0, 0, 0, 1, 1, 1, 1, 1, 1, 1, 1, 1, 1, 1, 1, 1, 1, 1, 1, 1, 1, 1, 1, 1, 1, 1, 1, 1, 1, 1, 1, 1, 1, 1, 1, 1, 1, 1, 1, 1, 1, 1, 1, 1, 1, 1, 1, 1, 1, 1, 1, 1, 1, 1, 1, 1, 1, 1, 1, 1, 1, 1, 1, 1, 1, 1, 1, 1, 2, 2, 2, 2, 2, 2, 2, 2, 2, 2, 2, 2, 2, 2, 2, 2, 2, 2, 2, 2, 2, 2, 3, 3, 3, 4]\n"
     ]
    },
    {
     "data": {
      "text/plain": [
       "200"
      ]
     },
     "execution_count": 151,
     "metadata": {},
     "output_type": "execute_result"
    }
   ],
   "source": [
    "x = [0] * 109 + [1] * 65 + [2] * 22 + [3] * 3 + [4] * 1 + [5] * 0 + [6] * 0\n",
    "print(x)\n",
    "n = len(x)\n",
    "alpha = 0.05\n",
    "#Гипотеза H_0: Выборка из количества радиоактивных распадов за единицу времени\n",
    "#распределённа по закону Пуассона\n",
    "n"
   ]
  },
  {
   "cell_type": "code",
   "execution_count": 152,
   "metadata": {},
   "outputs": [
    {
     "data": {
      "text/html": [
       "<font color='green'>Первоначальная обработка статистических данных</font>"
      ],
      "text/plain": [
       "<IPython.core.display.HTML object>"
      ]
     },
     "metadata": {},
     "output_type": "display_data"
    },
    {
     "name": "stdout",
     "output_type": "stream",
     "text": [
      "Минимальный член выборки:  0\n",
      "Максимальный член выборки:  4\n",
      "Размах выборки:  4\n",
      "Число интервалов:  7\n",
      "Длина интервалов:  1\n",
      "Границы интервалов:\n",
      " [0, 1, 2, 3, 4, 5, 6]\n",
      "Относительные частоты:\n",
      " [0.545, 0.325, 0.11, 0.015, 0.005, 0.0, 0.0]\n",
      "Высоты столбцов гистограммы:\n",
      " [0.545, 0.325, 0.11, 0.015, 0.005, 0.0, 0.0]\n"
     ]
    },
    {
     "data": {
      "text/html": [
       "<font color='Black'>Гистограмма относительных частот</font>"
      ],
      "text/plain": [
       "<IPython.core.display.HTML object>"
      ]
     },
     "metadata": {},
     "output_type": "display_data"
    },
    {
     "data": {
      "image/png": "[encoded data removed]",
      "text/plain": [
       "<Figure size 432x288 with 1 Axes>"
      ]
     },
     "metadata": {
      "needs_background": "light"
     },
     "output_type": "display_data"
    },
    {
     "name": "stdout",
     "output_type": "stream",
     "text": [
      "Выборочное среднее:  0.61\n",
      "Cреднее квадратичное отклонение:  0.6079000000000001\n"
     ]
    }
   ],
   "source": [
    "from IPython.core.display import display, HTML\n",
    "display(HTML(\"<font color='green'>Первоначальная обработка статистических данных</font>\"))\n",
    "\n",
    "mi = min(x)\n",
    "\n",
    "ma = max(x)\n",
    "\n",
    "#Размах выборки\n",
    "omega = ma - mi\n",
    "\n",
    "#Группировка данных\n",
    "\n",
    "l = 7\n",
    "\n",
    "h = 1\n",
    "\n",
    "borders = []\n",
    "for i in range(l):\n",
    "    borders.append(round((mi + i * h), 3) )\n",
    "\n",
    "hist = [109, 65, 22, 3, 1, 0, 0]\n",
    "\n",
    "r_f = [0] * l\n",
    "for i in range (0, l):\n",
    "    r_f[i] = hist[i] / len(x)\n",
    "\n",
    "hight = []\n",
    "for i in range(l):\n",
    "    hight.append(round((r_f[i] / h), 3))\n",
    "\n",
    "##Гистограмма относительных частот\n",
    "plt.hist(x, \n",
    "         bins = np.arange(0, 7, h),\n",
    "         density = True, \n",
    "         range = (mi, ma))\n",
    "plt.xlim(0, 6)\n",
    "\n",
    "##Выборочные характеристики выборки x\n",
    "x_mean = np.mean(x)\n",
    "\n",
    "x_s = np.var(x)\n",
    "\n",
    "print(\"Минимальный член выборки: \", mi)\n",
    "print(\"Максимальный член выборки: \", ma)\n",
    "print(\"Размах выборки: \", omega)\n",
    "print(\"Число интервалов: \", l)  \n",
    "print(\"Длина интервалов: \", h)  \n",
    "print(\"Границы интервалов:\\n\", borders)\n",
    "print(\"Относительные частоты:\\n\", r_f)\n",
    "print(\"Высоты столбцов гистограммы:\\n\", hight)\n",
    "display(HTML(\"<font color='Black'>Гистограмма относительных частот</font>\"))\n",
    "plt.show()\n",
    "print(\"Выборочное среднее: \", x_mean)\n",
    "print(\"Cреднее квадратичное отклонение: \", x_s)"
   ]
  },
  {
   "cell_type": "code",
   "execution_count": 153,
   "metadata": {},
   "outputs": [],
   "source": [
    "#Для распределения хи-квадрат\n",
    "#Первый момент = lambda (находим методом моментов)"
   ]
  },
  {
   "cell_type": "code",
   "execution_count": 154,
   "metadata": {},
   "outputs": [
    {
     "data": {
      "text/html": [
       "<font color='green'>График, соответствующий гипотезе H_0:</font>"
      ],
      "text/plain": [
       "<IPython.core.display.HTML object>"
      ]
     },
     "metadata": {},
     "output_type": "display_data"
    },
    {
     "data": {
      "image/png": "[encoded data removed]",
      "text/plain": [
       "<Figure size 432x288 with 1 Axes>"
      ]
     },
     "metadata": {
      "needs_background": "light"
     },
     "output_type": "display_data"
    },
    {
     "data": {
      "text/html": [
       "<font color='green'>Совмещённый график гистограммы и распределения Пуассона с lambda = 0.665</font>"
      ],
      "text/plain": [
       "<IPython.core.display.HTML object>"
      ]
     },
     "metadata": {},
     "output_type": "display_data"
    },
    {
     "data": {
      "image/png": "[encoded data removed]",
      "text/plain": [
       "<Figure size 432x288 with 1 Axes>"
      ]
     },
     "metadata": {
      "needs_background": "light"
     },
     "output_type": "display_data"
    }
   ],
   "source": [
    "fig, ax = plt.subplots(1, 1)\n",
    "lambd = x_mean\n",
    "display(HTML(\"<font color='green'>График, соответствующий гипотезе H_0:</font>\"))\n",
    "x_1 = np.arange(0, 7)\n",
    "ax.plot(x_1, scipy.stats.poisson.pmf(x_1, lambd), 'bo', color='y', ms=8)\n",
    "ax.vlines(x_1, 0, scipy.stats.poisson.pmf(x_1, lambd), colors='y', lw=5, alpha=0.5)\n",
    "plt.ylim(0, 0.6)\n",
    "plt.show()\n",
    "plt.hist(x, \n",
    "         bins = np.arange(mi, ma + 1, h),\n",
    "         density = True, \n",
    "         range = (mi, ma))\n",
    "x_1 = np.arange(0, 7)\n",
    "plt.plot(x_1, scipy.stats.poisson.pmf(x_1, lambd), 'bo', color='y', ms=8, label='Распределение Пуассона')\n",
    "plt.vlines(x_1, 0, scipy.stats.poisson.pmf(x_1, lambd), colors='y', lw=5, alpha=0.5)\n",
    "display(HTML(\"<font color='green'>Совмещённый график гистограммы и распределения Пуассона с lambda = 0.665</font>\"))\n",
    "plt.legend()\n",
    "plt.show()"
   ]
  },
  {
   "cell_type": "code",
   "execution_count": 149,
   "metadata": {},
   "outputs": [
    {
     "name": "stdout",
     "output_type": "stream",
     "text": [
      "   Имперические частоты  Теоретические частоты\n",
      "0                   109             108.670174\n",
      "1                    65              66.288806\n",
      "2                    22              20.218086\n",
      "3                     3               4.111011\n",
      "4                     1               0.626929\n",
      "5                     0               0.076485\n",
      "6                     0               0.007776\n"
     ]
    },
    {
     "data": {
      "text/html": [
       "<font color='green'>Объединим последние шесть интервалов</font>"
      ],
      "text/plain": [
       "<IPython.core.display.HTML object>"
      ]
     },
     "metadata": {},
     "output_type": "display_data"
    },
    {
     "name": "stdout",
     "output_type": "stream",
     "text": [
      "[108.67017381489997, 66.28880602708898, 25.04028713726671]\n"
     ]
    },
    {
     "data": {
      "text/html": [
       "<font color='green'>X^2b = </font>"
      ],
      "text/plain": [
       "<IPython.core.display.HTML object>"
      ]
     },
     "metadata": {},
     "output_type": "display_data"
    },
    {
     "name": "stdout",
     "output_type": "stream",
     "text": [
      "0.3951973698600031\n"
     ]
    },
    {
     "data": {
      "text/html": [
       "<font color='green'>Число степеней свободы: 3 - 1 - 1</font>"
      ],
      "text/plain": [
       "<IPython.core.display.HTML object>"
      ]
     },
     "metadata": {},
     "output_type": "display_data"
    },
    {
     "data": {
      "text/html": [
       "<font color='green'>X^2alpha = </font>"
      ],
      "text/plain": [
       "<IPython.core.display.HTML object>"
      ]
     },
     "metadata": {},
     "output_type": "display_data"
    },
    {
     "name": "stdout",
     "output_type": "stream",
     "text": [
      "3.841458820694124\n"
     ]
    }
   ],
   "source": [
    "teor_frequency = [] * l\n",
    "for i in range(l):\n",
    "    teor_frequency.append(n * ((lambd) ** i) / math.factorial(i) * math.exp(-lambd))\n",
    "frequency = pd.DataFrame({'Имперические частоты': hist,\n",
    "                          'Теоретические частоты': teor_frequency})\n",
    "print(frequency)\n",
    "display(HTML(\"<font color='green'>Объединим последние четыре интервала</font>\"))\n",
    "merge1 = np.sum(teor_frequency[2:l]) \n",
    "teor_frequency = teor_frequency[0:2] + [merge1]\n",
    "print(teor_frequency)\n",
    "hi_kv_b = [0] * len(teor_frequency)\n",
    "for i in range(len(teor_frequency)):\n",
    "    hi_kv_b[i] = ((hist[i] - teor_frequency[i]) ** 2) / teor_frequency[i]\n",
    "display(HTML(\"<font color='green'>X^2b = </font>\"))\n",
    "print(np.sum(hi_kv_b))\n",
    "display(HTML(\"<font color='green'>Число степеней свободы: 3 - 1 - 1</font>\"))\n",
    "m = len(teor_frequency) - 1 - 1\n",
    "display(HTML(\"<font color='green'>X^2alpha = </font>\"))\n",
    "print(scipy.stats.chi2.ppf(1 - alpha, m))"
   ]
  },
  {
   "cell_type": "code",
   "execution_count": 155,
   "metadata": {},
   "outputs": [
    {
     "data": {
      "text/html": [
       "<font color='black'>Вывод: Гипотеза H_0: Выборка из количества радиоактивных распадов за единицу времени распределённа по закону Пуассона </font><font color='red'>принимается </font><font color='black'>на уровне доверия 0,95.</font>"
      ],
      "text/plain": [
       "<IPython.core.display.HTML object>"
      ]
     },
     "metadata": {},
     "output_type": "display_data"
    }
   ],
   "source": [
    "display(HTML(\"<font color='black'>Вывод: Гипотеза H_0: Выборка из количества радиоактивных распадов за единицу времени распределённа по закону Пуассона </font><font color='red'>принимается </font><font color='black'>на уровне доверия 0,95.</font>\")) "
   ]
  }
 ],
 "metadata": {
  "kernelspec": {
   "display_name": "Python 3",
   "language": "python",
   "name": "python3"
  },
  "language_info": {
   "codemirror_mode": {
    "name": "ipython",
    "version": 3
   },
   "file_extension": ".py",
   "mimetype": "text/x-python",
   "name": "python",
   "nbconvert_exporter": "python",
   "pygments_lexer": "ipython3",
   "version": "3.7.0"
  }
 },
 "nbformat": 4,
 "nbformat_minor": 2
}
