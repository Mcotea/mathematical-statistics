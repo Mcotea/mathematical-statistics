{
 "cells": [
  {
   "cell_type": "code",
   "execution_count": 17,
   "metadata": {},
   "outputs": [],
   "source": [
    "import numpy as np\n",
    "import math\n",
    "import matplotlib.pyplot as plt\n",
    "import scipy.stats"
   ]
  },
  {
   "cell_type": "code",
   "execution_count": 18,
   "metadata": {},
   "outputs": [
    {
     "name": "stdout",
     "output_type": "stream",
     "text": [
      "[-21.057, -5.179, -8.535, -12.949, -11.247, -15.141, -10.143, -12.213, -14.597, -15.539, -6.885, -10.62, -10.116, -15.219, -13.752, -8.93, -11.356, -19.106, -11.704, -19.12, -11.453, -10.488, -10.578, -12.331, -13.153, -11.762, -12.286, -13.785, -15.089, -12.556, -10.234, -5.643, -9.221, -11.226, -8.729, -11.333, -12.566, -6.501, -15.48, -10.078, -14.814, -14.907, -9.687, -9.046, -11.871, -15.068, -9.082, -14.568, -10.336, -12.371, -3.822, -12.113, -9.962, -9.235, -11.872, -9.024, -13.539, -16.74, -11.15, -10.035, -14.874, -14.619, -12.558, -11.993, -15.996, -9.65, -13.873, -12.317, -12.061, -9.286, -7.085, -17.757, -15.144, -11.85, -9.015, -10.029, -10.429, -15.039, -11.626, -11.451]\n",
      "80\n"
     ]
    }
   ],
   "source": [
    "x = [-21.057, -14.597, -11.356, -13.153, -9.221, -14.814, -10.336, -13.539, -15.996, -15.144,\n",
    "    -5.179, -15.539, -19.106, -11.762, -11.226, -14.907, -12.371, -16.74, -9.65, -11.85,\n",
    "    -8.535, -6.885, -11.704, -12.286, -8.729, -9.687, -3.822, -11.15, -13.873, -9.015,\n",
    "    -12.949, -10.62, -19.12, -13.785, -11.333, -9.046, -12.113, -10.035, -12.317, -10.029,\n",
    "    -11.247, -10.116, -11.453, -15.089, -12.566, -11.871, -9.962, -14.874, -12.061, -10.429,\n",
    "    -15.141, -15.219, -10.488, -12.556, -6.501, -15.068, -9.235, -14.619, -9.286, -15.039,\n",
    "    -10.143, -13.752, -10.578, -10.234, -15.48, -9.082, -11.872, -12.558, -7.085, -11.626,\n",
    "    -12.213, -8.93, -12.331, -5.643, -10.078, -14.568, -9.024, -11.993, -17.757, -11.451]\n",
    "x_t = []\n",
    "for j in range(0, 10):\n",
    "    for i in range(j, 80, 10):\n",
    "        x_t.append(x[i])\n",
    "print(x_t)\n",
    "print(len(x_t))"
   ]
  },
  {
   "cell_type": "code",
   "execution_count": 19,
   "metadata": {},
   "outputs": [
    {
     "data": {
      "text/html": [
       "<font color='green'>Первоначальная обработка статистических данных</font>"
      ],
      "text/plain": [
       "<IPython.core.display.HTML object>"
      ]
     },
     "metadata": {},
     "output_type": "display_data"
    },
    {
     "name": "stdout",
     "output_type": "stream",
     "text": [
      "Минимальный член выборки:  -21.057\n",
      "Максимальный член выборки:  -3.822\n",
      "Размах выборки:  17.235\n",
      "Число интервалов:  7\n",
      "Длина интервалов:  2.462142857142857\n",
      "Границы интервалов:\n",
      " [-21.057, -18.595, -16.133, -13.671, -11.208, -8.746, -6.284]\n",
      "Относительные частоты:\n",
      " [0.0375, 0.025, 0.225, 0.325, 0.2875, 0.0625, 0.0375]\n",
      "Высоты столбцов гистограммы:\n",
      " [0.015, 0.01, 0.091, 0.132, 0.117, 0.025, 0.015]\n"
     ]
    },
    {
     "data": {
      "text/html": [
       "<font color='Black'>Гистограмма относительных частот</font>"
      ],
      "text/plain": [
       "<IPython.core.display.HTML object>"
      ]
     },
     "metadata": {},
     "output_type": "display_data"
    },
    {
     "data": {
      "image/png": "[encoded data removed]",
      "text/plain": [
       "<Figure size 432x288 with 1 Axes>"
      ]
     },
     "metadata": {
      "needs_background": "light"
     },
     "output_type": "display_data"
    },
    {
     "name": "stdout",
     "output_type": "stream",
     "text": [
      "Выборочное среднее:  -11.922424999999999\n",
      "Cреднее квадратичное отклонение:  9.673063794375\n"
     ]
    },
    {
     "data": {
      "text/html": [
       "<font color='Green'>РЕШЕНИЕ</font>"
      ],
      "text/plain": [
       "<IPython.core.display.HTML object>"
      ]
     },
     "metadata": {},
     "output_type": "display_data"
    },
    {
     "data": {
      "text/html": [
       "<font color='Green'>Лабораторная работа №5</font>"
      ],
      "text/plain": [
       "<IPython.core.display.HTML object>"
      ]
     },
     "metadata": {},
     "output_type": "display_data"
    },
    {
     "data": {
      "text/html": [
       "<font color='Green'>(1)</font>"
      ],
      "text/plain": [
       "<IPython.core.display.HTML object>"
      ]
     },
     "metadata": {},
     "output_type": "display_data"
    },
    {
     "name": "stdout",
     "output_type": "stream",
     "text": [
      "a_0 =  -11.6\n",
      "a_1 =  -12.6\n",
      "sigma_0 =  3.3\n",
      "sigma_1 =  3\n",
      "Критическое множество S_2 при альтернативе H_2: a < a_0\n",
      "S_2 = { x_mean <  -12.425668735948022 }\n"
     ]
    },
    {
     "data": {
      "text/html": [
       "<font color='Red'>=> гипотеза H_0: a = a_0 принимается, т.к.</font>"
      ],
      "text/plain": [
       "<IPython.core.display.HTML object>"
      ]
     },
     "metadata": {},
     "output_type": "display_data"
    },
    {
     "name": "stdout",
     "output_type": "stream",
     "text": [
      "x_mean:  -11.922424999999999 \n",
      "не принадлежит критическому множеству S_2\n"
     ]
    },
    {
     "data": {
      "text/html": [
       "<font color='Green'>(2)</font>"
      ],
      "text/plain": [
       "<IPython.core.display.HTML object>"
      ]
     },
     "metadata": {},
     "output_type": "display_data"
    },
    {
     "name": "stdout",
     "output_type": "stream",
     "text": [
      "Критическое множество S_3 при альтернативе H_3: sigma < sigma_0\n",
      "S_3 = { x_s <  7.267996498500064 }\n"
     ]
    },
    {
     "data": {
      "text/html": [
       "<font color='Red'>=> гипотеза H_0: sigma = sigma_0 принимается, т.к.</font>"
      ],
      "text/plain": [
       "<IPython.core.display.HTML object>"
      ]
     },
     "metadata": {},
     "output_type": "display_data"
    },
    {
     "name": "stdout",
     "output_type": "stream",
     "text": [
      "x_s:  9.673063794375 \n",
      "не принадлежит критическому множеству S_3\n"
     ]
    },
    {
     "data": {
      "text/html": [
       "<font color='Green'>(3)</font>"
      ],
      "text/plain": [
       "<IPython.core.display.HTML object>"
      ]
     },
     "metadata": {},
     "output_type": "display_data"
    },
    {
     "name": "stdout",
     "output_type": "stream",
     "text": [
      "Критическое множество S_1 при альтернативе H_1: a = a_1\n",
      "S_1 = { x_mean <  -12.380280797850116 }\n"
     ]
    },
    {
     "data": {
      "text/html": [
       "<font color='Red'>=> гипотеза H_0: a = a_0 принимается, т.к.</font>"
      ],
      "text/plain": [
       "<IPython.core.display.HTML object>"
      ]
     },
     "metadata": {},
     "output_type": "display_data"
    },
    {
     "name": "stdout",
     "output_type": "stream",
     "text": [
      "x_mean:  -11.922424999999999 \n",
      "не принадлежит критическому множеству S_1\n"
     ]
    },
    {
     "data": {
      "text/html": [
       "<font color='Green'>(4)</font>"
      ],
      "text/plain": [
       "<IPython.core.display.HTML object>"
      ]
     },
     "metadata": {},
     "output_type": "display_data"
    },
    {
     "name": "stdout",
     "output_type": "stream",
     "text": [
      "ошибка betta:  0.2562093808001751\n"
     ]
    },
    {
     "data": {
      "text/html": [
       "<font color='Green'>(5)</font>"
      ],
      "text/plain": [
       "<IPython.core.display.HTML object>"
      ]
     },
     "metadata": {},
     "output_type": "display_data"
    },
    {
     "name": "stdout",
     "output_type": "stream",
     "text": [
      "-12.931981476285202\n"
     ]
    },
    {
     "data": {
      "text/html": [
       "<font color='Green'>(6)</font>"
      ],
      "text/plain": [
       "<IPython.core.display.HTML object>"
      ]
     },
     "metadata": {},
     "output_type": "display_data"
    },
    {
     "data": {
      "image/png": "[encoded data removed]",
      "text/plain": [
       "<Figure size 432x288 with 1 Axes>"
      ]
     },
     "metadata": {
      "needs_background": "light"
     },
     "output_type": "display_data"
    },
    {
     "data": {
      "text/html": [
       "<font color='Black'>Вывод: по графику видно, что график N(a_0, sigma_1) наиболее точно описывает распределения выборки. Это согласуется с результатом, полученным в (3) пункте решения.</font>"
      ],
      "text/plain": [
       "<IPython.core.display.HTML object>"
      ]
     },
     "metadata": {},
     "output_type": "display_data"
    }
   ],
   "source": [
    "from IPython.core.display import display, HTML\n",
    "display(HTML(\"<font color='green'>Первоначальная обработка статистических данных</font>\"))\n",
    "\n",
    "mi = min(x)\n",
    "\n",
    "ma = max(x)\n",
    "\n",
    "#Размах выборки\n",
    "omega = ma - mi\n",
    "\n",
    "#Группировка данных\n",
    "l = math.trunc(1 + 3.32*math.log(len(x), 10))\n",
    "\n",
    "h = omega / l\n",
    "\n",
    "borders = []\n",
    "for i in range(l):\n",
    "    borders.append(round((mi + i * h), 3) )\n",
    "\n",
    "hist = np.histogram(x, l)\n",
    "\n",
    "r_f = [0] * l\n",
    "for i in range (0, l):\n",
    "    r_f[i] = hist[0][i] / len(x)\n",
    "\n",
    "hight = []\n",
    "for i in range(l):\n",
    "    hight.append(round((r_f[i] / h), 3))\n",
    "hight\n",
    "\n",
    "##Гистограмма относительных частот\n",
    "plt.hist(x, \n",
    "         bins = np.arange(mi, ma + 1, h),\n",
    "         density = True, \n",
    "         range = (mi, ma))\n",
    "plt.xlim(mi, ma)\n",
    "\n",
    "##Выборочные характеристики выборки x\n",
    "x_mean = np.mean(x)\n",
    "x_mean\n",
    "\n",
    "x_s = np.var(x)\n",
    "x_s\n",
    "\n",
    "print(\"Минимальный член выборки: \", mi)\n",
    "print(\"Максимальный член выборки: \", ma)\n",
    "print(\"Размах выборки: \", omega)\n",
    "print(\"Число интервалов: \", l)  \n",
    "print(\"Длина интервалов: \", h)  \n",
    "print(\"Границы интервалов:\\n\", borders)\n",
    "print(\"Относительные частоты:\\n\", r_f)\n",
    "print(\"Высоты столбцов гистограммы:\\n\", hight)\n",
    "display(HTML(\"<font color='Black'>Гистограмма относительных частот</font>\"))\n",
    "plt.show()\n",
    "print(\"Выборочное среднее: \", x_mean)\n",
    "print(\"Cреднее квадратичное отклонение: \", x_s)\n",
    "\n",
    "\n",
    "display(HTML(\"<font color='Green'>РЕШЕНИЕ</font>\"))\n",
    "display(HTML(\"<font color='Green'>Лабораторная работа №5</font>\"))\n",
    "\n",
    "display(HTML(\"<font color='Green'>(1)</font>\"))\n",
    "alpha = 0.01\n",
    "a_0 = -11.6\n",
    "sigma_0 = 3.3\n",
    "a_1 = -12.6\n",
    "sigma_1 = 3\n",
    "eps = 0.05\n",
    "n = len(x)\n",
    "print(\"a_0 = \", -11.6)\n",
    "print(\"a_1 = \", -12.6)\n",
    "print(\"sigma_0 = \", 3.3)\n",
    "print(\"sigma_1 = \", 3)\n",
    "c_2 = a_0 + (scipy.stats.t.ppf(alpha, n - 1) / (n ** (1 / 2))) * (x_s ** (1 / 2))\n",
    "print(\"Критическое множество S_2 при альтернативе H_2: a < a_0\\nS_2 = { x_mean < \", c_2, \"}\")\n",
    "display(HTML(\"<font color='Red'>=> гипотеза H_0: a = a_0 принимается, т.к.</font>\"))\n",
    "print(\"x_mean: \", x_mean, \"\\nне принадлежит критическому множеству S_2\")\n",
    "\n",
    "display(HTML(\"<font color='Green'>(2)</font>\"))\n",
    "c_3 = ((sigma_0 ** 2) / (n - 1)) * scipy.stats.chi2.ppf(alpha, n - 1)\n",
    "print(\"Критическое множество S_3 при альтернативе H_3: sigma < sigma_0\\nS_3 = { x_s < \", c_3, \"}\")\n",
    "display(HTML(\"<font color='Red'>=> гипотеза H_0: sigma = sigma_0 принимается, т.к.</font>\"))\n",
    "print(\"x_s: \", x_s, \"\\nне принадлежит критическому множеству S_3\")\n",
    "\n",
    "display(HTML(\"<font color='Green'>(3)</font>\"))\n",
    "c_1 = a_0 + ((sigma_1 * scipy.stats.norm.ppf(alpha)) / (n ** (1 / 2)))\n",
    "print(\"Критическое множество S_1 при альтернативе H_1: a = a_1\\nS_1 = { x_mean < \", c_1, \"}\")\n",
    "display(HTML(\"<font color='Red'>=> гипотеза H_0: a = a_0 принимается, т.к.</font>\"))\n",
    "print(\"x_mean: \", x_mean, \"\\nне принадлежит критическому множеству S_1\")\n",
    "\n",
    "display(HTML(\"<font color='Green'>(4)</font>\"))\n",
    "betta = 1 - scipy.stats.norm.cdf((c_1 - a_1) /  sigma_1 * (n ** (1 / 2)))\n",
    "print(\"ошибка betta: \", betta)\n",
    "\n",
    "display(HTML(\"<font color='Green'>(5)</font>\"))\n",
    "a_1_ = c_1 - scipy.stats.norm.ppf(1 - eps) / (n ** (1 / 2)) * sigma_1\n",
    "print(a_1_)\n",
    "\n",
    "display(HTML(\"<font color='Green'>(6)</font>\"))\n",
    "cords = np.arange (-100, 100, 0.001)\n",
    "plt.hist(x, \n",
    "         bins = np.arange(mi, ma + 1, h),\n",
    "         density = True, \n",
    "         range = (mi, ma))\n",
    "plt.xlim(mi, ma)\n",
    "plt.plot (cords, scipy.stats.norm.pdf (cords, a_0, sigma_1), label = 'N(a_0, sigma_1)')\n",
    "plt.plot (cords, scipy.stats.norm.pdf (cords, a_1, sigma_1), label = 'N(a_1, sigma_1)')\n",
    "\n",
    "plt.legend()\n",
    "plt.show()\n",
    "\n",
    "display(HTML(\"<font color='Black'>Вывод: по графику видно, что график N(a_0, sigma_1) наиболее точно описывает распределения выборки. Это согласуется с результатом, полученным в (3) пункте решения.</font>\"))\n"
   ]
  },
  {
   "cell_type": "code",
   "execution_count": 20,
   "metadata": {},
   "outputs": [
    {
     "data": {
      "text/html": [
       "<font color='Green'>Лабораторная работа №6</font>"
      ],
      "text/plain": [
       "<IPython.core.display.HTML object>"
      ]
     },
     "metadata": {},
     "output_type": "display_data"
    },
    {
     "data": {
      "text/html": [
       "<font color='Green'>(1)</font>"
      ],
      "text/plain": [
       "<IPython.core.display.HTML object>"
      ]
     },
     "metadata": {},
     "output_type": "display_data"
    },
    {
     "name": "stdout",
     "output_type": "stream",
     "text": [
      "Постоянные\n",
      "A:  74.37906191998249 \n",
      "B:  0.2587973543436112\n"
     ]
    },
    {
     "data": {
      "text/html": [
       "<font color='Green'>(2)</font>"
      ],
      "text/plain": [
       "<IPython.core.display.HTML object>"
      ]
     },
     "metadata": {},
     "output_type": "display_data"
    },
    {
     "data": {
      "image/png": "[encoded data removed]",
      "text/plain": [
       "<Figure size 432x288 with 1 Axes>"
      ]
     },
     "metadata": {
      "needs_background": "light"
     },
     "output_type": "display_data"
    },
    {
     "name": "stdout",
     "output_type": "stream",
     "text": [
      "Согласно графику, нам недостаточно данных, чтобы принять ту или иную гипотезу, однако видно, что график стремится оказаться ниже прямой B, что соответствовало бы принятию основной гипотезы H_0\n"
     ]
    },
    {
     "data": {
      "text/html": [
       "<font color='Green'>(3)</font>"
      ],
      "text/plain": [
       "<IPython.core.display.HTML object>"
      ]
     },
     "metadata": {},
     "output_type": "display_data"
    },
    {
     "name": "stdout",
     "output_type": "stream",
     "text": [
      "Математическое ожидание момента принятия решения при основной гипотезе H_0:  23.311819710631063\n",
      "Математическое ожидание момента принятия решения при альтернативе H_1:  51.458450139330736\n"
     ]
    },
    {
     "data": {
      "text/html": [
       "<font color='Green'>(4)</font>"
      ],
      "text/plain": [
       "<IPython.core.display.HTML object>"
      ]
     },
     "metadata": {},
     "output_type": "display_data"
    },
    {
     "name": "stdout",
     "output_type": "stream",
     "text": [
      "Критическое множество: S={ L(X,a_1)/L(X,a_0) >= 12.07799 }\n",
      "Приведём графическую иллюстрацию последовательного критерия:\n"
     ]
    },
    {
     "data": {
      "image/png": "[encoded data removed]",
      "text/plain": [
       "<Figure size 432x288 with 1 Axes>"
      ]
     },
     "metadata": {
      "needs_background": "light"
     },
     "output_type": "display_data"
    },
    {
     "name": "stdout",
     "output_type": "stream",
     "text": [
      "При этом при n = 80\n",
      "L(X,a_1)/L(X,a_0) = 0.2062957532469142\n",
      "Из графика видно, что согласно критейрию Неймана-Пирсона гипотеза H_0 принимается\n"
     ]
    },
    {
     "data": {
      "text/html": [
       "<font color='Black'>Вывод: согласно критерию Неймана-Пирсона гипотеза H_0 принимается, что согласуется с результатами 5 Лабораторной работы. Критерий Вальда не дал достоверного результата на заданной выборке, а лишь показал стремление графика оказаться ниже прямой B.</font>"
      ],
      "text/plain": [
       "<IPython.core.display.HTML object>"
      ]
     },
     "metadata": {},
     "output_type": "display_data"
    }
   ],
   "source": [
    "display(HTML(\"<font color='Green'>Лабораторная работа №6</font>\"))\n",
    "display(HTML(\"<font color='Green'>(1)</font>\"))\n",
    "A = (1 - betta) / alpha\n",
    "B = betta / (1 - alpha)\n",
    "print(\"Постоянные\\nA: \", A, \"\\nB: \", B)\n",
    "\n",
    "display(HTML(\"<font color='Green'>(2)</font>\"))\n",
    "def Z(i):\n",
    "    return np.exp((2*(a_1 - a_0) * sum(x_t[:i]) + (a_0**2 - a_1**2)*i) / (2*sigma_1**2) )\n",
    "\n",
    "plt.axhline(y = A, color = 'r', label = \"A\")\n",
    "plt.axhline(y = B, color = 'b', label = \"B\")\n",
    "px = np.arange(0, n, 1)\n",
    "py = np.vectorize(Z, otypes=[float])\n",
    "plt.plot(px, py(px))\n",
    "plt.legend()\n",
    "plt.show()\n",
    "print(\"Согласно графику, нам недостаточно данных, чтобы принять ту или иную гипотезу, однако видно, что график стремится оказаться ниже прямой B, что соответствовало бы принятию основной гипотезы H_0\")\n",
    "\n",
    "display(HTML(\"<font color='Green'>(3)</font>\"))\n",
    "M_0 = (- (a_1 - a_0) ** 2) / (2 * sigma_1 ** 2)\n",
    "M_a_0 = (alpha * math.log(A) + (1 - alpha) * math.log(B)) / M_0\n",
    "print(\"Математическое ожидание момента принятия решения при основной гипотезе H_0: \", M_a_0)\n",
    "M_1 = ((a_1 - a_0) ** 2) / (2 * sigma_1 ** 2)\n",
    "M_a_1 = (betta * math.log(B) + (1 - betta) * math.log(A)) / M_1\n",
    "print(\"Математическое ожидание момента принятия решения при альтернативе H_1: \", M_a_1)\n",
    "\n",
    "display(HTML(\"<font color='Green'>(4)</font>\"))\n",
    "ln_C = (2*c_1*n*(a_1 - a_0) + n*(a_0**2 - a_1**2)) / (2*sigma_1**2)\n",
    "C = np.exp(ln_C)\n",
    "print(\"Критическое множество: S={ L(X,a_1)/L(X,a_0) >=\", round(C,5),\"}\")\n",
    "plt.axhline(y = A, color = 'r', label = \"A\")\n",
    "plt.axhline(y = B, color = 'b', label = \"B\")\n",
    "plt.axhline(y = C, color = 'g', label = \"C\")\n",
    "px = np.arange(0, n, 1)\n",
    "py = np.vectorize(Z, otypes=[float])\n",
    "plt.plot(px, py(px))\n",
    "plt.legend()\n",
    "print(\"Приведём графическую иллюстрацию последовательного критерия:\")\n",
    "plt.show()\n",
    "print(\"При этом при n =\", n)\n",
    "print(\"L(X,a_1)/L(X,a_0) =\", Z(n))\n",
    "print(\"Из графика видно, что согласно критейрию Неймана-Пирсона гипотеза H_0 принимается\")\n",
    "display(HTML(\"<font color='Black'>Вывод: согласно критерию Неймана-Пирсона гипотеза H_0 принимается, что согласуется с результатами 5 Лабораторной работы. Критерий Вальда не дал достоверного результата на заданной выборке, а лишь показал стремление графика оказаться ниже прямой B.</font>\"))"
   ]
  },
  {
   "cell_type": "code",
   "execution_count": 21,
   "metadata": {},
   "outputs": [
    {
     "data": {
      "text/html": [
       "<font color='Green'>Общий вывод по итоге Лабораторной работы 5-6</font>"
      ],
      "text/plain": [
       "<IPython.core.display.HTML object>"
      ]
     },
     "metadata": {},
     "output_type": "display_data"
    },
    {
     "data": {
      "text/html": [
       "<font color='Black'>В процессе выполнения задания я освоила этапы первоначальной обработки статистических данных и изучила основные понятия, связанные с этой темой. Я научилась по заданной выборке составлять интервальный вариационный ряд, который является результатом группировки данных, а также вычислять выборочное среднее и среднее квадратичное отклонение выборки. На следующем этапе был разобран способ построения гистограммы относительных частот. Затем, были посчитаны критические множества для среднего и среднего квадратичного отклонения, а также проверены 3 гипотезы с разными альтернативами. Была найдена ошибка второго рода для критерия S_1 и такое значение параметра a_2, при котором ошибка второго рода критерия S_1 не превосходит эпсилон. Также были построены совмещенные графики гистограммы относительных частот X и плотностей нормального распределения N(a_0, sigma_1) и N(a_1, sigma_1). На совмещённом графике видно, что кривая плотности нормального закона для основной гипотезы H_0: a = -11.6 лучше ложится на гистограмму, чем в случае альтернативы H_1: a = -12.6, что согласуется в пункте 3.</font>"
      ],
      "text/plain": [
       "<IPython.core.display.HTML object>"
      ]
     },
     "metadata": {},
     "output_type": "display_data"
    },
    {
     "data": {
      "text/html": [
       "<font color='Black'>В процессе выполнения задания я научилась строить последовательный критерий Вальда для проверки простых гипотез о среднем значении нормального закона (основная гипотеза H_0: a = a_0  против альтернативы H_1: a = a_1 при известном sigma = sigma_1) а также применять построенный критерий к заданной выборке, вычислять математическое ожидание момента принятия решения при основной гипотезе H_0 и при альтернативе H_1. Было установлено, что критерий Вальда не даёт достоверного результата на заданной выборке, а согласно критерию Неймана-Пирсона принимается основная гипотеза H_0.</font>"
      ],
      "text/plain": [
       "<IPython.core.display.HTML object>"
      ]
     },
     "metadata": {},
     "output_type": "display_data"
    }
   ],
   "source": [
    "display(HTML(\"<font color='Green'>Общий вывод по итоге Лабораторной работы 5-6</font>\"))\n",
    "display(HTML(\"<font color='Black'>В процессе выполнения задания я освоила этапы первоначальной обработки статистических данных и изучила основные понятия, связанные с этой темой. Я научилась по заданной выборке составлять интервальный вариационный ряд, который является результатом группировки данных, а также вычислять выборочное среднее и среднее квадратичное отклонение выборки. На следующем этапе был разобран способ построения гистограммы относительных частот. Затем, были посчитаны критические множества для среднего и среднего квадратичного отклонения, а также проверены 3 гипотезы с разными альтернативами. Была найдена ошибка второго рода для критерия S_1 и такое значение параметра a_2, при котором ошибка второго рода критерия S_1 не превосходит эпсилон. Также были построены совмещенные графики гистограммы относительных частот X и плотностей нормального распределения N(a_0, sigma_1) и N(a_1, sigma_1). На совмещённом графике видно, что кривая плотности нормального закона для основной гипотезы H_0: a = -11.6 лучше ложится на гистограмму, чем в случае альтернативы H_1: a = -12.6, что согласуется в пункте 3.</font>\"))\n",
    "display(HTML(\"<font color='Black'>В процессе выполнения задания я научилась строить последовательный критерий Вальда для проверки простых гипотез о среднем значении нормального закона (основная гипотеза H_0: a = a_0  против альтернативы H_1: a = a_1 при известном sigma = sigma_1) а также применять построенный критерий к заданной выборке, вычислять математическое ожидание момента принятия решения при основной гипотезе H_0 и при альтернативе H_1. Было установлено, что критерий Вальда не даёт достоверного результата на заданной выборке, а согласно критерию Неймана-Пирсона принимается основная гипотеза H_0.</font>\"))"
   ]
  },
  {
   "cell_type": "code",
   "execution_count": null,
   "metadata": {},
   "outputs": [],
   "source": []
  }
 ],
 "metadata": {
  "kernelspec": {
   "display_name": "Python 3",
   "language": "python",
   "name": "python3"
  },
  "language_info": {
   "codemirror_mode": {
    "name": "ipython",
    "version": 3
   },
   "file_extension": ".py",
   "mimetype": "text/x-python",
   "name": "python",
   "nbconvert_exporter": "python",
   "pygments_lexer": "ipython3",
   "version": "3.7.0"
  }
 },
 "nbformat": 4,
 "nbformat_minor": 2
}
